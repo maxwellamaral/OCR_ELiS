{
 "cells": [
  {
   "cell_type": "code",
   "execution_count": 5,
   "id": "b3b59063",
   "metadata": {},
   "outputs": [],
   "source": [
    "import tensorflow as tf\n",
    "from tensorflow.keras import layers, models\n",
    "import matplotlib.pyplot as plt\n",
    "import numpy as np\n",
    "import os\n",
    "from pathlib import Path"
   ]
  },
  {
   "cell_type": "code",
   "execution_count": 6,
   "id": "a856b90a",
   "metadata": {},
   "outputs": [],
   "source": [
    "\n",
    "def find_project_root(markers=(\"pyproject.toml\", \".git\")) -> Path:\n",
    "    \"\"\"\n",
    "    Descobre a raiz do projeto subindo diretórios até encontrar um marcador.\n",
    "\n",
    "    Parâmetros:\n",
    "        markers: nomes de arquivos/pastas que indicam a raiz (ex.: \"pyproject.toml\", \".git\").\n",
    "\n",
    "    Retorna:\n",
    "        pathlib.Path apontando para a raiz do projeto, ou o diretório atual como fallback.\n",
    "    \"\"\"\n",
    "    p = Path.cwd().resolve()\n",
    "    for parent in [p, *p.parents]:\n",
    "        if any((parent / m).exists() for m in markers):\n",
    "            return parent\n",
    "    return p\n",
    "\n",
    "ROOT = find_project_root()"
   ]
  },
  {
   "cell_type": "code",
   "execution_count": 11,
   "id": "5e3d8d5f",
   "metadata": {},
   "outputs": [],
   "source": [
    "# --- Configurações ---\n",
    "# Configurações\n",
    "DATA_DIR = ROOT / \"data\"\n",
    "DATASET_DIR = DATA_DIR / \"raw\" / \"dataset\"\n",
    "\n",
    "IMG_HEIGHT = 64\n",
    "IMG_WIDTH = 64\n",
    "BATCH_SIZE = 32\n",
    "EPOCHS = 20\n",
    "NUM_CLASSES = 149 # Número de símbolos\n",
    "MODEL_SAVE_PATH = DATA_DIR / \"processed\" / \"modelo_ocr_simbolos.keras\""
   ]
  },
  {
   "cell_type": "code",
   "execution_count": 8,
   "id": "e593628f",
   "metadata": {},
   "outputs": [],
   "source": [
    "# --- Carregamento e Preparação dos Dados ---\n",
    "def load_datasets():\n",
    "    \"\"\"Carrega os datasets de treino, validação e teste.\"\"\"\n",
    "\n",
    "    class_names = sorted(os.listdir(os.path.join(DATASET_DIR, 'train')))\n",
    "\n",
    "\n",
    "    train_ds = tf.keras.preprocessing.image_dataset_from_directory(\n",
    "        os.path.join(DATASET_DIR, 'train'),\n",
    "        image_size=(IMG_HEIGHT, IMG_WIDTH),\n",
    "        batch_size=BATCH_SIZE,\n",
    "        color_mode='grayscale',\n",
    "        # lambel_mode='categorical',\n",
    "        label_mode='int',\n",
    "        validation_split=None,\n",
    "        # seed=123,\n",
    "        class_names=class_names  # garante mapeamento idêntico\n",
    "    )\n",
    "    val_ds = tf.keras.preprocessing.image_dataset_from_directory(\n",
    "        os.path.join(DATASET_DIR, 'validation'),\n",
    "        image_size=(IMG_HEIGHT, IMG_WIDTH),\n",
    "        batch_size=BATCH_SIZE,\n",
    "        color_mode='grayscale',\n",
    "        # label_mode='categorical',\n",
    "        label_mode='int',\n",
    "        validation_split=None,\n",
    "        # seed=123,\n",
    "        class_names=class_names  # garante mapeamento idêntico\n",
    "    )\n",
    "    test_ds = tf.keras.preprocessing.image_dataset_from_directory(\n",
    "        os.path.join(DATASET_DIR, 'test'),\n",
    "        image_size=(IMG_HEIGHT, IMG_WIDTH),\n",
    "        batch_size=BATCH_SIZE,\n",
    "        color_mode='grayscale',\n",
    "        # label_mode='categorical',\n",
    "        label_mode='int',\n",
    "        class_names=class_names\n",
    "    )\n",
    "\n",
    "    # class_names = train_ds.class_names\n",
    "    # print(f'Classes encontradas: {class_names}')\n",
    "\n",
    "    return train_ds, val_ds, test_ds, class_names"
   ]
  },
  {
   "cell_type": "code",
   "execution_count": 9,
   "id": "fd43faa9",
   "metadata": {},
   "outputs": [],
   "source": [
    "def build_model():\n",
    "    \"\"\"Constrói a arquitetura da Rede Neural Convolucional.\"\"\"\n",
    "    model = models.Sequential([\n",
    "        # Camada de normalização para reescalar os pixels para [0,1]\n",
    "        layers.Rescaling(1./255, input_shape=(IMG_HEIGHT, IMG_WIDTH, 1)),\n",
    "\n",
    "        # Camada Convolucional 1\n",
    "        layers.Conv2D(32, (3, 3), activation='relu', padding='same'),\n",
    "        layers.MaxPooling2D((2, 2)),\n",
    "\n",
    "        # Camada Convolucional 2\n",
    "        layers.Conv2D(64, (3, 3), activation='relu', padding='same'),\n",
    "        layers.MaxPooling2D((2, 2)),\n",
    "\n",
    "        # Camada Convolucional 3\n",
    "        layers.Conv2D(128, (3, 3), activation='relu', padding='same'),\n",
    "        layers.MaxPooling2D((2, 2)),\n",
    "\n",
    "        # Camada de Classificação\n",
    "        layers.Flatten(),\n",
    "        layers.Dense(256, activation='relu'),\n",
    "        layers.Dropout(0.5),\n",
    "        layers.Dense(NUM_CLASSES, activation='softmax') # Camada de saída\n",
    "    ])\n",
    "\n",
    "    model.compile(optimizer='adam',\n",
    "                  loss='sparse_categorical_crossentropy',\n",
    "                  metrics=['accuracy'])\n",
    "\n",
    "    return model"
   ]
  },
  {
   "cell_type": "code",
   "execution_count": 10,
   "id": "172b457a",
   "metadata": {},
   "outputs": [],
   "source": [
    "def plot_history(history):\n",
    "    \"\"\"Plota os gráficos de acurácia e perda do treinamento.\"\"\"\n",
    "    acc = history.history['accuracy']\n",
    "    val_acc = history.history['val_accuracy']\n",
    "    loss = history.history['loss']\n",
    "    val_loss = history.history['val_loss']\n",
    "\n",
    "    epochs_range = range(len(acc))\n",
    "\n",
    "    plt.figure(figsize=(12, 5))\n",
    "    plt.subplot(1, 2, 1)\n",
    "    plt.plot(epochs_range, acc, label='Acurácia de Treino')\n",
    "    plt.plot(epochs_range, val_acc, label='Acurácia de Validação')\n",
    "    plt.legend(loc='lower right')\n",
    "    plt.title('Acurácia de Treino e Validação')\n",
    "\n",
    "    plt.subplot(1, 2, 2)\n",
    "    plt.plot(epochs_range, loss, label='Perda de Treino')\n",
    "    plt.plot(epochs_range, val_loss, label='Perda de Validação')\n",
    "    plt.legend(loc='upper right')\n",
    "    plt.title('Perda de Treino e Validação')\n",
    "    plt.show()"
   ]
  },
  {
   "cell_type": "code",
   "execution_count": 12,
   "id": "85185ddb",
   "metadata": {},
   "outputs": [
    {
     "name": "stdout",
     "output_type": "stream",
     "text": [
      "Found 102263 files belonging to 146 classes.\n"
     ]
    },
    {
     "name": "stderr",
     "output_type": "stream",
     "text": [
      "WARNING: All log messages before absl::InitializeLog() is called are written to STDERR\n",
      "I0000 00:00:1760800280.586001    9059 gpu_device.cc:2020] Created device /job:localhost/replica:0/task:0/device:GPU:0 with 5561 MB memory:  -> device: 0, name: NVIDIA GeForce RTX 4060 Laptop GPU, pci bus id: 0000:01:00.0, compute capability: 8.9\n"
     ]
    },
    {
     "name": "stdout",
     "output_type": "stream",
     "text": [
      "Found 21770 files belonging to 146 classes.\n",
      "Found 21967 files belonging to 146 classes.\n"
     ]
    },
    {
     "name": "stderr",
     "output_type": "stream",
     "text": [
      "/home/max/.pyenv/versions/mambaforge-23.11.0-0/envs/tf-gpu/lib/python3.11/site-packages/keras/src/layers/preprocessing/tf_data_layer.py:19: UserWarning: Do not pass an `input_shape`/`input_dim` argument to a layer. When using Sequential models, prefer using an `Input(shape)` object as the first layer in the model instead.\n",
      "  super().__init__(**kwargs)\n"
     ]
    },
    {
     "data": {
      "text/html": [
       "<pre style=\"white-space:pre;overflow-x:auto;line-height:normal;font-family:Menlo,'DejaVu Sans Mono',consolas,'Courier New',monospace\"><span style=\"font-weight: bold\">Model: \"sequential\"</span>\n",
       "</pre>\n"
      ],
      "text/plain": [
       "\u001b[1mModel: \"sequential\"\u001b[0m\n"
      ]
     },
     "metadata": {},
     "output_type": "display_data"
    },
    {
     "data": {
      "text/html": [
       "<pre style=\"white-space:pre;overflow-x:auto;line-height:normal;font-family:Menlo,'DejaVu Sans Mono',consolas,'Courier New',monospace\">┏━━━━━━━━━━━━━━━━━━━━━━━━━━━━━━━━━┳━━━━━━━━━━━━━━━━━━━━━━━━┳━━━━━━━━━━━━━━━┓\n",
       "┃<span style=\"font-weight: bold\"> Layer (type)                    </span>┃<span style=\"font-weight: bold\"> Output Shape           </span>┃<span style=\"font-weight: bold\">       Param # </span>┃\n",
       "┡━━━━━━━━━━━━━━━━━━━━━━━━━━━━━━━━━╇━━━━━━━━━━━━━━━━━━━━━━━━╇━━━━━━━━━━━━━━━┩\n",
       "│ rescaling (<span style=\"color: #0087ff; text-decoration-color: #0087ff\">Rescaling</span>)           │ (<span style=\"color: #00d7ff; text-decoration-color: #00d7ff\">None</span>, <span style=\"color: #00af00; text-decoration-color: #00af00\">64</span>, <span style=\"color: #00af00; text-decoration-color: #00af00\">64</span>, <span style=\"color: #00af00; text-decoration-color: #00af00\">1</span>)      │             <span style=\"color: #00af00; text-decoration-color: #00af00\">0</span> │\n",
       "├─────────────────────────────────┼────────────────────────┼───────────────┤\n",
       "│ conv2d (<span style=\"color: #0087ff; text-decoration-color: #0087ff\">Conv2D</span>)                 │ (<span style=\"color: #00d7ff; text-decoration-color: #00d7ff\">None</span>, <span style=\"color: #00af00; text-decoration-color: #00af00\">64</span>, <span style=\"color: #00af00; text-decoration-color: #00af00\">64</span>, <span style=\"color: #00af00; text-decoration-color: #00af00\">32</span>)     │           <span style=\"color: #00af00; text-decoration-color: #00af00\">320</span> │\n",
       "├─────────────────────────────────┼────────────────────────┼───────────────┤\n",
       "│ max_pooling2d (<span style=\"color: #0087ff; text-decoration-color: #0087ff\">MaxPooling2D</span>)    │ (<span style=\"color: #00d7ff; text-decoration-color: #00d7ff\">None</span>, <span style=\"color: #00af00; text-decoration-color: #00af00\">32</span>, <span style=\"color: #00af00; text-decoration-color: #00af00\">32</span>, <span style=\"color: #00af00; text-decoration-color: #00af00\">32</span>)     │             <span style=\"color: #00af00; text-decoration-color: #00af00\">0</span> │\n",
       "├─────────────────────────────────┼────────────────────────┼───────────────┤\n",
       "│ conv2d_1 (<span style=\"color: #0087ff; text-decoration-color: #0087ff\">Conv2D</span>)               │ (<span style=\"color: #00d7ff; text-decoration-color: #00d7ff\">None</span>, <span style=\"color: #00af00; text-decoration-color: #00af00\">32</span>, <span style=\"color: #00af00; text-decoration-color: #00af00\">32</span>, <span style=\"color: #00af00; text-decoration-color: #00af00\">64</span>)     │        <span style=\"color: #00af00; text-decoration-color: #00af00\">18,496</span> │\n",
       "├─────────────────────────────────┼────────────────────────┼───────────────┤\n",
       "│ max_pooling2d_1 (<span style=\"color: #0087ff; text-decoration-color: #0087ff\">MaxPooling2D</span>)  │ (<span style=\"color: #00d7ff; text-decoration-color: #00d7ff\">None</span>, <span style=\"color: #00af00; text-decoration-color: #00af00\">16</span>, <span style=\"color: #00af00; text-decoration-color: #00af00\">16</span>, <span style=\"color: #00af00; text-decoration-color: #00af00\">64</span>)     │             <span style=\"color: #00af00; text-decoration-color: #00af00\">0</span> │\n",
       "├─────────────────────────────────┼────────────────────────┼───────────────┤\n",
       "│ conv2d_2 (<span style=\"color: #0087ff; text-decoration-color: #0087ff\">Conv2D</span>)               │ (<span style=\"color: #00d7ff; text-decoration-color: #00d7ff\">None</span>, <span style=\"color: #00af00; text-decoration-color: #00af00\">16</span>, <span style=\"color: #00af00; text-decoration-color: #00af00\">16</span>, <span style=\"color: #00af00; text-decoration-color: #00af00\">128</span>)    │        <span style=\"color: #00af00; text-decoration-color: #00af00\">73,856</span> │\n",
       "├─────────────────────────────────┼────────────────────────┼───────────────┤\n",
       "│ max_pooling2d_2 (<span style=\"color: #0087ff; text-decoration-color: #0087ff\">MaxPooling2D</span>)  │ (<span style=\"color: #00d7ff; text-decoration-color: #00d7ff\">None</span>, <span style=\"color: #00af00; text-decoration-color: #00af00\">8</span>, <span style=\"color: #00af00; text-decoration-color: #00af00\">8</span>, <span style=\"color: #00af00; text-decoration-color: #00af00\">128</span>)      │             <span style=\"color: #00af00; text-decoration-color: #00af00\">0</span> │\n",
       "├─────────────────────────────────┼────────────────────────┼───────────────┤\n",
       "│ flatten (<span style=\"color: #0087ff; text-decoration-color: #0087ff\">Flatten</span>)               │ (<span style=\"color: #00d7ff; text-decoration-color: #00d7ff\">None</span>, <span style=\"color: #00af00; text-decoration-color: #00af00\">8192</span>)           │             <span style=\"color: #00af00; text-decoration-color: #00af00\">0</span> │\n",
       "├─────────────────────────────────┼────────────────────────┼───────────────┤\n",
       "│ dense (<span style=\"color: #0087ff; text-decoration-color: #0087ff\">Dense</span>)                   │ (<span style=\"color: #00d7ff; text-decoration-color: #00d7ff\">None</span>, <span style=\"color: #00af00; text-decoration-color: #00af00\">256</span>)            │     <span style=\"color: #00af00; text-decoration-color: #00af00\">2,097,408</span> │\n",
       "├─────────────────────────────────┼────────────────────────┼───────────────┤\n",
       "│ dropout (<span style=\"color: #0087ff; text-decoration-color: #0087ff\">Dropout</span>)               │ (<span style=\"color: #00d7ff; text-decoration-color: #00d7ff\">None</span>, <span style=\"color: #00af00; text-decoration-color: #00af00\">256</span>)            │             <span style=\"color: #00af00; text-decoration-color: #00af00\">0</span> │\n",
       "├─────────────────────────────────┼────────────────────────┼───────────────┤\n",
       "│ dense_1 (<span style=\"color: #0087ff; text-decoration-color: #0087ff\">Dense</span>)                 │ (<span style=\"color: #00d7ff; text-decoration-color: #00d7ff\">None</span>, <span style=\"color: #00af00; text-decoration-color: #00af00\">149</span>)            │        <span style=\"color: #00af00; text-decoration-color: #00af00\">38,293</span> │\n",
       "└─────────────────────────────────┴────────────────────────┴───────────────┘\n",
       "</pre>\n"
      ],
      "text/plain": [
       "┏━━━━━━━━━━━━━━━━━━━━━━━━━━━━━━━━━┳━━━━━━━━━━━━━━━━━━━━━━━━┳━━━━━━━━━━━━━━━┓\n",
       "┃\u001b[1m \u001b[0m\u001b[1mLayer (type)                   \u001b[0m\u001b[1m \u001b[0m┃\u001b[1m \u001b[0m\u001b[1mOutput Shape          \u001b[0m\u001b[1m \u001b[0m┃\u001b[1m \u001b[0m\u001b[1m      Param #\u001b[0m\u001b[1m \u001b[0m┃\n",
       "┡━━━━━━━━━━━━━━━━━━━━━━━━━━━━━━━━━╇━━━━━━━━━━━━━━━━━━━━━━━━╇━━━━━━━━━━━━━━━┩\n",
       "│ rescaling (\u001b[38;5;33mRescaling\u001b[0m)           │ (\u001b[38;5;45mNone\u001b[0m, \u001b[38;5;34m64\u001b[0m, \u001b[38;5;34m64\u001b[0m, \u001b[38;5;34m1\u001b[0m)      │             \u001b[38;5;34m0\u001b[0m │\n",
       "├─────────────────────────────────┼────────────────────────┼───────────────┤\n",
       "│ conv2d (\u001b[38;5;33mConv2D\u001b[0m)                 │ (\u001b[38;5;45mNone\u001b[0m, \u001b[38;5;34m64\u001b[0m, \u001b[38;5;34m64\u001b[0m, \u001b[38;5;34m32\u001b[0m)     │           \u001b[38;5;34m320\u001b[0m │\n",
       "├─────────────────────────────────┼────────────────────────┼───────────────┤\n",
       "│ max_pooling2d (\u001b[38;5;33mMaxPooling2D\u001b[0m)    │ (\u001b[38;5;45mNone\u001b[0m, \u001b[38;5;34m32\u001b[0m, \u001b[38;5;34m32\u001b[0m, \u001b[38;5;34m32\u001b[0m)     │             \u001b[38;5;34m0\u001b[0m │\n",
       "├─────────────────────────────────┼────────────────────────┼───────────────┤\n",
       "│ conv2d_1 (\u001b[38;5;33mConv2D\u001b[0m)               │ (\u001b[38;5;45mNone\u001b[0m, \u001b[38;5;34m32\u001b[0m, \u001b[38;5;34m32\u001b[0m, \u001b[38;5;34m64\u001b[0m)     │        \u001b[38;5;34m18,496\u001b[0m │\n",
       "├─────────────────────────────────┼────────────────────────┼───────────────┤\n",
       "│ max_pooling2d_1 (\u001b[38;5;33mMaxPooling2D\u001b[0m)  │ (\u001b[38;5;45mNone\u001b[0m, \u001b[38;5;34m16\u001b[0m, \u001b[38;5;34m16\u001b[0m, \u001b[38;5;34m64\u001b[0m)     │             \u001b[38;5;34m0\u001b[0m │\n",
       "├─────────────────────────────────┼────────────────────────┼───────────────┤\n",
       "│ conv2d_2 (\u001b[38;5;33mConv2D\u001b[0m)               │ (\u001b[38;5;45mNone\u001b[0m, \u001b[38;5;34m16\u001b[0m, \u001b[38;5;34m16\u001b[0m, \u001b[38;5;34m128\u001b[0m)    │        \u001b[38;5;34m73,856\u001b[0m │\n",
       "├─────────────────────────────────┼────────────────────────┼───────────────┤\n",
       "│ max_pooling2d_2 (\u001b[38;5;33mMaxPooling2D\u001b[0m)  │ (\u001b[38;5;45mNone\u001b[0m, \u001b[38;5;34m8\u001b[0m, \u001b[38;5;34m8\u001b[0m, \u001b[38;5;34m128\u001b[0m)      │             \u001b[38;5;34m0\u001b[0m │\n",
       "├─────────────────────────────────┼────────────────────────┼───────────────┤\n",
       "│ flatten (\u001b[38;5;33mFlatten\u001b[0m)               │ (\u001b[38;5;45mNone\u001b[0m, \u001b[38;5;34m8192\u001b[0m)           │             \u001b[38;5;34m0\u001b[0m │\n",
       "├─────────────────────────────────┼────────────────────────┼───────────────┤\n",
       "│ dense (\u001b[38;5;33mDense\u001b[0m)                   │ (\u001b[38;5;45mNone\u001b[0m, \u001b[38;5;34m256\u001b[0m)            │     \u001b[38;5;34m2,097,408\u001b[0m │\n",
       "├─────────────────────────────────┼────────────────────────┼───────────────┤\n",
       "│ dropout (\u001b[38;5;33mDropout\u001b[0m)               │ (\u001b[38;5;45mNone\u001b[0m, \u001b[38;5;34m256\u001b[0m)            │             \u001b[38;5;34m0\u001b[0m │\n",
       "├─────────────────────────────────┼────────────────────────┼───────────────┤\n",
       "│ dense_1 (\u001b[38;5;33mDense\u001b[0m)                 │ (\u001b[38;5;45mNone\u001b[0m, \u001b[38;5;34m149\u001b[0m)            │        \u001b[38;5;34m38,293\u001b[0m │\n",
       "└─────────────────────────────────┴────────────────────────┴───────────────┘\n"
      ]
     },
     "metadata": {},
     "output_type": "display_data"
    },
    {
     "data": {
      "text/html": [
       "<pre style=\"white-space:pre;overflow-x:auto;line-height:normal;font-family:Menlo,'DejaVu Sans Mono',consolas,'Courier New',monospace\"><span style=\"font-weight: bold\"> Total params: </span><span style=\"color: #00af00; text-decoration-color: #00af00\">2,228,373</span> (8.50 MB)\n",
       "</pre>\n"
      ],
      "text/plain": [
       "\u001b[1m Total params: \u001b[0m\u001b[38;5;34m2,228,373\u001b[0m (8.50 MB)\n"
      ]
     },
     "metadata": {},
     "output_type": "display_data"
    },
    {
     "data": {
      "text/html": [
       "<pre style=\"white-space:pre;overflow-x:auto;line-height:normal;font-family:Menlo,'DejaVu Sans Mono',consolas,'Courier New',monospace\"><span style=\"font-weight: bold\"> Trainable params: </span><span style=\"color: #00af00; text-decoration-color: #00af00\">2,228,373</span> (8.50 MB)\n",
       "</pre>\n"
      ],
      "text/plain": [
       "\u001b[1m Trainable params: \u001b[0m\u001b[38;5;34m2,228,373\u001b[0m (8.50 MB)\n"
      ]
     },
     "metadata": {},
     "output_type": "display_data"
    },
    {
     "data": {
      "text/html": [
       "<pre style=\"white-space:pre;overflow-x:auto;line-height:normal;font-family:Menlo,'DejaVu Sans Mono',consolas,'Courier New',monospace\"><span style=\"font-weight: bold\"> Non-trainable params: </span><span style=\"color: #00af00; text-decoration-color: #00af00\">0</span> (0.00 B)\n",
       "</pre>\n"
      ],
      "text/plain": [
       "\u001b[1m Non-trainable params: \u001b[0m\u001b[38;5;34m0\u001b[0m (0.00 B)\n"
      ]
     },
     "metadata": {},
     "output_type": "display_data"
    },
    {
     "name": "stdout",
     "output_type": "stream",
     "text": [
      "\n",
      "Iniciando o treinamento...\n",
      "Epoch 1/20\n"
     ]
    },
    {
     "name": "stderr",
     "output_type": "stream",
     "text": [
      "2025-10-18 12:11:46.602637: I external/local_xla/xla/service/service.cc:163] XLA service 0x7ed8e8019940 initialized for platform CUDA (this does not guarantee that XLA will be used). Devices:\n",
      "2025-10-18 12:11:46.602672: I external/local_xla/xla/service/service.cc:171]   StreamExecutor device (0): NVIDIA GeForce RTX 4060 Laptop GPU, Compute Capability 8.9\n",
      "2025-10-18 12:11:46.632925: I tensorflow/compiler/mlir/tensorflow/utils/dump_mlir_util.cc:269] disabling MLIR crash reproducer, set env var `MLIR_CRASH_REPRODUCER_DIRECTORY` to enable.\n",
      "2025-10-18 12:11:46.813938: I external/local_xla/xla/stream_executor/cuda/cuda_dnn.cc:473] Loaded cuDNN version 91400\n",
      "2025-10-18 12:11:46.897434: I external/local_xla/xla/service/gpu/autotuning/dot_search_space.cc:208] All configs were filtered out because none of them sufficiently match the hints. Maybe the hints set does not contain a good representative set of valid configs? Working around this by using the full hints set instead.\n",
      "2025-10-18 12:11:46.897482: I external/local_xla/xla/service/gpu/autotuning/dot_search_space.cc:208] All configs were filtered out because none of them sufficiently match the hints. Maybe the hints set does not contain a good representative set of valid configs? Working around this by using the full hints set instead.\n",
      "2025-10-18 12:11:46.897526: I external/local_xla/xla/service/gpu/autotuning/dot_search_space.cc:208] All configs were filtered out because none of them sufficiently match the hints. Maybe the hints set does not contain a good representative set of valid configs? Working around this by using the full hints set instead.\n",
      "2025-10-18 12:11:46.897534: I external/local_xla/xla/service/gpu/autotuning/dot_search_space.cc:208] All configs were filtered out because none of them sufficiently match the hints. Maybe the hints set does not contain a good representative set of valid configs? Working around this by using the full hints set instead.\n",
      "2025-10-18 12:11:47.784633: I external/local_xla/xla/stream_executor/cuda/subprocess_compilation.cc:346] ptxas warning : Registers are spilled to local memory in function 'gemm_fusion_dot_336', 60 bytes spill stores, 60 bytes spill loads\n",
      "\n",
      "2025-10-18 12:11:47.811354: I external/local_xla/xla/stream_executor/cuda/subprocess_compilation.cc:346] ptxas warning : Registers are spilled to local memory in function 'gemm_fusion_dot_813', 4 bytes spill stores, 4 bytes spill loads\n",
      "\n",
      "2025-10-18 12:11:48.453734: I external/local_xla/xla/stream_executor/cuda/subprocess_compilation.cc:346] ptxas warning : Registers are spilled to local memory in function 'gemm_fusion_dot_813', 680 bytes spill stores, 540 bytes spill loads\n",
      "\n",
      "2025-10-18 12:11:48.521120: I external/local_xla/xla/stream_executor/cuda/subprocess_compilation.cc:346] ptxas warning : Registers are spilled to local memory in function 'gemm_fusion_dot_980', 44 bytes spill stores, 44 bytes spill loads\n",
      "\n",
      "2025-10-18 12:11:48.598890: I external/local_xla/xla/stream_executor/cuda/subprocess_compilation.cc:346] ptxas warning : Registers are spilled to local memory in function 'gemm_fusion_dot_964', 520 bytes spill stores, 520 bytes spill loads\n",
      "\n"
     ]
    },
    {
     "name": "stdout",
     "output_type": "stream",
     "text": [
      "\u001b[1m   9/3196\u001b[0m \u001b[37m━━━━━━━━━━━━━━━━━━━━\u001b[0m \u001b[1m54s\u001b[0m 17ms/step - accuracy: 0.0089 - loss: 5.0447    "
     ]
    },
    {
     "name": "stderr",
     "output_type": "stream",
     "text": [
      "I0000 00:00:1760800311.569944   10218 device_compiler.h:196] Compiled cluster using XLA!  This line is logged at most once for the lifetime of the process.\n"
     ]
    },
    {
     "name": "stdout",
     "output_type": "stream",
     "text": [
      "\u001b[1m3195/3196\u001b[0m \u001b[32m━━━━━━━━━━━━━━━━━━━\u001b[0m\u001b[37m━\u001b[0m \u001b[1m0s\u001b[0m 39ms/step - accuracy: 0.5127 - loss: 1.9305"
     ]
    },
    {
     "name": "stderr",
     "output_type": "stream",
     "text": [
      "2025-10-18 12:13:57.925056: I external/local_xla/xla/service/gpu/autotuning/dot_search_space.cc:208] All configs were filtered out because none of them sufficiently match the hints. Maybe the hints set does not contain a good representative set of valid configs? Working around this by using the full hints set instead.\n",
      "2025-10-18 12:13:57.925102: I external/local_xla/xla/service/gpu/autotuning/dot_search_space.cc:208] All configs were filtered out because none of them sufficiently match the hints. Maybe the hints set does not contain a good representative set of valid configs? Working around this by using the full hints set instead.\n",
      "2025-10-18 12:13:58.496369: I external/local_xla/xla/stream_executor/cuda/subprocess_compilation.cc:346] ptxas warning : Registers are spilled to local memory in function 'gemm_fusion_dot_336', 8 bytes spill stores, 8 bytes spill loads\n",
      "\n",
      "2025-10-18 12:13:58.507410: I external/local_xla/xla/stream_executor/cuda/subprocess_compilation.cc:346] ptxas warning : Registers are spilled to local memory in function 'gemm_fusion_dot_336', 52 bytes spill stores, 52 bytes spill loads\n",
      "\n",
      "2025-10-18 12:13:58.526594: I external/local_xla/xla/stream_executor/cuda/subprocess_compilation.cc:346] ptxas warning : Registers are spilled to local memory in function 'gemm_fusion_dot_832', 4 bytes spill stores, 4 bytes spill loads\n",
      "\n",
      "2025-10-18 12:13:58.554506: I external/local_xla/xla/stream_executor/cuda/subprocess_compilation.cc:346] ptxas warning : Registers are spilled to local memory in function 'gemm_fusion_dot_813', 4 bytes spill stores, 4 bytes spill loads\n",
      "\n",
      "2025-10-18 12:13:58.896841: I external/local_xla/xla/stream_executor/cuda/subprocess_compilation.cc:346] ptxas warning : Registers are spilled to local memory in function 'gemm_fusion_dot_813', 680 bytes spill stores, 540 bytes spill loads\n",
      "\n"
     ]
    },
    {
     "name": "stdout",
     "output_type": "stream",
     "text": [
      "\u001b[1m3196/3196\u001b[0m \u001b[32m━━━━━━━━━━━━━━━━━━━━\u001b[0m\u001b[37m\u001b[0m \u001b[1m0s\u001b[0m 41ms/step - accuracy: 0.5128 - loss: 1.9302"
     ]
    },
    {
     "name": "stderr",
     "output_type": "stream",
     "text": [
      "2025-10-18 12:14:01.305030: I external/local_xla/xla/service/gpu/autotuning/dot_search_space.cc:208] All configs were filtered out because none of them sufficiently match the hints. Maybe the hints set does not contain a good representative set of valid configs? Working around this by using the full hints set instead.\n",
      "2025-10-18 12:14:01.792181: I external/local_xla/xla/stream_executor/cuda/subprocess_compilation.cc:346] ptxas warning : Registers are spilled to local memory in function 'gemm_fusion_dot_100', 12 bytes spill stores, 12 bytes spill loads\n",
      "\n"
     ]
    },
    {
     "name": "stdout",
     "output_type": "stream",
     "text": [
      "\u001b[1m3196/3196\u001b[0m \u001b[32m━━━━━━━━━━━━━━━━━━━━\u001b[0m\u001b[37m\u001b[0m \u001b[1m158s\u001b[0m 48ms/step - accuracy: 0.7314 - loss: 0.9114 - val_accuracy: 0.9365 - val_loss: 0.1346\n",
      "Epoch 2/20\n",
      "\u001b[1m3196/3196\u001b[0m \u001b[32m━━━━━━━━━━━━━━━━━━━━\u001b[0m\u001b[37m\u001b[0m \u001b[1m17s\u001b[0m 5ms/step - accuracy: 0.9123 - loss: 0.2064 - val_accuracy: 0.9430 - val_loss: 0.1055\n",
      "Epoch 3/20\n",
      "\u001b[1m3196/3196\u001b[0m \u001b[32m━━━━━━━━━━━━━━━━━━━━\u001b[0m\u001b[37m\u001b[0m \u001b[1m14s\u001b[0m 4ms/step - accuracy: 0.9272 - loss: 0.1594 - val_accuracy: 0.9458 - val_loss: 0.0935\n",
      "Epoch 4/20\n",
      "\u001b[1m3196/3196\u001b[0m \u001b[32m━━━━━━━━━━━━━━━━━━━━\u001b[0m\u001b[37m\u001b[0m \u001b[1m17s\u001b[0m 5ms/step - accuracy: 0.9345 - loss: 0.1363 - val_accuracy: 0.9464 - val_loss: 0.0941\n",
      "Epoch 5/20\n",
      "\u001b[1m3196/3196\u001b[0m \u001b[32m━━━━━━━━━━━━━━━━━━━━\u001b[0m\u001b[37m\u001b[0m \u001b[1m14s\u001b[0m 4ms/step - accuracy: 0.9379 - loss: 0.1235 - val_accuracy: 0.9468 - val_loss: 0.0899\n",
      "Epoch 6/20\n",
      "\u001b[1m3196/3196\u001b[0m \u001b[32m━━━━━━━━━━━━━━━━━━━━\u001b[0m\u001b[37m\u001b[0m \u001b[1m17s\u001b[0m 5ms/step - accuracy: 0.9420 - loss: 0.1132 - val_accuracy: 0.9473 - val_loss: 0.0887\n",
      "Epoch 7/20\n",
      "\u001b[1m3196/3196\u001b[0m \u001b[32m━━━━━━━━━━━━━━━━━━━━\u001b[0m\u001b[37m\u001b[0m \u001b[1m15s\u001b[0m 5ms/step - accuracy: 0.9444 - loss: 0.1080 - val_accuracy: 0.9472 - val_loss: 0.0886\n",
      "Epoch 8/20\n",
      "\u001b[1m3196/3196\u001b[0m \u001b[32m━━━━━━━━━━━━━━━━━━━━\u001b[0m\u001b[37m\u001b[0m \u001b[1m17s\u001b[0m 5ms/step - accuracy: 0.9453 - loss: 0.1045 - val_accuracy: 0.9482 - val_loss: 0.0874\n",
      "Epoch 9/20\n",
      "\u001b[1m3196/3196\u001b[0m \u001b[32m━━━━━━━━━━━━━━━━━━━━\u001b[0m\u001b[37m\u001b[0m \u001b[1m14s\u001b[0m 5ms/step - accuracy: 0.9460 - loss: 0.1020 - val_accuracy: 0.9482 - val_loss: 0.0875\n",
      "Epoch 10/20\n",
      "\u001b[1m3196/3196\u001b[0m \u001b[32m━━━━━━━━━━━━━━━━━━━━\u001b[0m\u001b[37m\u001b[0m \u001b[1m15s\u001b[0m 5ms/step - accuracy: 0.9477 - loss: 0.0980 - val_accuracy: 0.9501 - val_loss: 0.0855\n",
      "Epoch 11/20\n",
      "\u001b[1m3196/3196\u001b[0m \u001b[32m━━━━━━━━━━━━━━━━━━━━\u001b[0m\u001b[37m\u001b[0m \u001b[1m17s\u001b[0m 5ms/step - accuracy: 0.9491 - loss: 0.0955 - val_accuracy: 0.9469 - val_loss: 0.0885\n",
      "Epoch 12/20\n",
      "\u001b[1m3196/3196\u001b[0m \u001b[32m━━━━━━━━━━━━━━━━━━━━\u001b[0m\u001b[37m\u001b[0m \u001b[1m15s\u001b[0m 5ms/step - accuracy: 0.9496 - loss: 0.0943 - val_accuracy: 0.9469 - val_loss: 0.0918\n",
      "Epoch 13/20\n",
      "\u001b[1m3196/3196\u001b[0m \u001b[32m━━━━━━━━━━━━━━━━━━━━\u001b[0m\u001b[37m\u001b[0m \u001b[1m18s\u001b[0m 5ms/step - accuracy: 0.9505 - loss: 0.0926 - val_accuracy: 0.9502 - val_loss: 0.0899\n",
      "Epoch 14/20\n",
      "\u001b[1m3196/3196\u001b[0m \u001b[32m━━━━━━━━━━━━━━━━━━━━\u001b[0m\u001b[37m\u001b[0m \u001b[1m14s\u001b[0m 4ms/step - accuracy: 0.9506 - loss: 0.0908 - val_accuracy: 0.9486 - val_loss: 0.0867\n",
      "Epoch 15/20\n",
      "\u001b[1m3196/3196\u001b[0m \u001b[32m━━━━━━━━━━━━━━━━━━━━\u001b[0m\u001b[37m\u001b[0m \u001b[1m17s\u001b[0m 5ms/step - accuracy: 0.9514 - loss: 0.0891 - val_accuracy: 0.9489 - val_loss: 0.0885\n",
      "Epoch 16/20\n",
      "\u001b[1m3196/3196\u001b[0m \u001b[32m━━━━━━━━━━━━━━━━━━━━\u001b[0m\u001b[37m\u001b[0m \u001b[1m14s\u001b[0m 4ms/step - accuracy: 0.9529 - loss: 0.0877 - val_accuracy: 0.9498 - val_loss: 0.0873\n",
      "Epoch 17/20\n",
      "\u001b[1m3196/3196\u001b[0m \u001b[32m━━━━━━━━━━━━━━━━━━━━\u001b[0m\u001b[37m\u001b[0m \u001b[1m17s\u001b[0m 5ms/step - accuracy: 0.9535 - loss: 0.0875 - val_accuracy: 0.9489 - val_loss: 0.0924\n",
      "Epoch 18/20\n",
      "\u001b[1m3196/3196\u001b[0m \u001b[32m━━━━━━━━━━━━━━━━━━━━\u001b[0m\u001b[37m\u001b[0m \u001b[1m14s\u001b[0m 4ms/step - accuracy: 0.9545 - loss: 0.0852 - val_accuracy: 0.9485 - val_loss: 0.0891\n",
      "Epoch 19/20\n",
      "\u001b[1m3196/3196\u001b[0m \u001b[32m━━━━━━━━━━━━━━━━━━━━\u001b[0m\u001b[37m\u001b[0m \u001b[1m15s\u001b[0m 5ms/step - accuracy: 0.9551 - loss: 0.0853 - val_accuracy: 0.9507 - val_loss: 0.0846\n",
      "Epoch 20/20\n",
      "\u001b[1m3196/3196\u001b[0m \u001b[32m━━━━━━━━━━━━━━━━━━━━\u001b[0m\u001b[37m\u001b[0m \u001b[1m18s\u001b[0m 6ms/step - accuracy: 0.9554 - loss: 0.0830 - val_accuracy: 0.9502 - val_loss: 0.0862\n",
      "\n",
      "Treinamento concluído!\n",
      "Modelo salvo em '/mnt/x/01-projetos/11-work/11.32-doutorado/DL/projeto_elis/data/processed/modelo_ocr_simbolos.keras'\n",
      "\n",
      "Avaliando o modelo no conjunto de teste...\n",
      "687/687 - 29s - 42ms/step - accuracy: 0.9523 - loss: 0.0812\n",
      "\n",
      "Acurácia no conjunto de teste: 0.9523\n"
     ]
    },
    {
     "data": {
      "image/png": "[encoded data removed]",
      "text/plain": [
       "<Figure size 1200x500 with 2 Axes>"
      ]
     },
     "metadata": {},
     "output_type": "display_data"
    }
   ],
   "source": [
    "if not os.path.exists(DATASET_DIR):\n",
    "    print(f\"ERRO: Diretório '{DATASET_DIR}' não encontrado. Execute o script 'gerador_dataset.py' primeiro.\")\n",
    "else:\n",
    "    train_ds, val_ds, test_ds, class_names = load_datasets()\n",
    "\n",
    "    # Otimiza a performance de carregamento dos dados\n",
    "    AUTOTUNE = tf.data.AUTOTUNE\n",
    "    train_ds = train_ds.cache().prefetch(buffer_size=AUTOTUNE)\n",
    "    val_ds = val_ds.cache().prefetch(buffer_size=AUTOTUNE)\n",
    "    with tf.device('/GPU:0'):\n",
    "        model = build_model()\n",
    "    model.summary()\n",
    "\n",
    "    print(\"\\nIniciando o treinamento...\")\n",
    "    history = model.fit(\n",
    "        train_ds,\n",
    "        validation_data=val_ds,\n",
    "        epochs=EPOCHS\n",
    "    )\n",
    "\n",
    "    print(\"\\nTreinamento concluído!\")\n",
    "\n",
    "    # Salva o modelo treinado\n",
    "    model.save(MODEL_SAVE_PATH)\n",
    "    print(f\"Modelo salvo em '{MODEL_SAVE_PATH}'\")\n",
    "\n",
    "    # Avalia o modelo no conjunto de teste\n",
    "    print(\"\\nAvaliando o modelo no conjunto de teste...\")\n",
    "    test_loss, test_acc = model.evaluate(test_ds, verbose=2)\n",
    "    print(f\"\\nAcurácia no conjunto de teste: {test_acc:.4f}\")\n",
    "\n",
    "    # Plota os gráficos\n",
    "    plot_history(history)\n"
   ]
  },
  {
   "cell_type": "code",
   "execution_count": 13,
   "id": "ddc377ba",
   "metadata": {},
   "outputs": [
    {
     "name": "stdout",
     "output_type": "stream",
     "text": [
      "Nomes das classes salvos em 'class_names.json'\n",
      "Processo concluído!\n"
     ]
    }
   ],
   "source": [
    "# Exportar class_names\n",
    "import json\n",
    "\n",
    "CLASS_NAMES_PATH = DATA_DIR / \"raw\" / \"class_names.json\"\n",
    "\n",
    "with open(CLASS_NAMES_PATH, 'w', encoding='utf-8') as f:\n",
    "    json.dump(class_names, f, ensure_ascii=False)\n",
    "print(\"Nomes das classes salvos em 'class_names.json'\")\n",
    "print(\"Processo concluído!\")"
   ]
  },
  {
   "cell_type": "code",
   "execution_count": 14,
   "id": "c7123978",
   "metadata": {},
   "outputs": [
    {
     "name": "stdout",
     "output_type": "stream",
     "text": [
      "0 U+0020\n",
      "1 U+0021\n",
      "2 U+0022\n",
      "3 U+0023\n",
      "4 U+0024\n",
      "5 U+0025\n",
      "6 U+0026\n",
      "7 U+0027\n",
      "8 U+0028\n",
      "9 U+0029\n",
      "10 U+002A\n",
      "11 U+002B\n",
      "12 U+002C\n",
      "13 U+002D\n",
      "14 U+002E\n",
      "15 U+002F\n",
      "16 U+0030\n",
      "17 U+0031\n",
      "18 U+0032\n",
      "19 U+0033\n",
      "20 U+0034\n",
      "21 U+0035\n",
      "22 U+0036\n",
      "23 U+0037\n",
      "24 U+0038\n",
      "25 U+0039\n",
      "26 U+003A\n",
      "27 U+003B\n",
      "28 U+003C\n",
      "29 U+003E\n",
      "30 U+003F\n",
      "31 U+0040\n",
      "32 U+0041\n",
      "33 U+0042\n",
      "34 U+0043\n",
      "35 U+0044\n",
      "36 U+0045\n",
      "37 U+0046\n",
      "38 U+0047\n",
      "39 U+0048\n",
      "40 U+0049\n",
      "41 U+004A\n",
      "42 U+004B\n",
      "43 U+004C\n",
      "44 U+004D\n",
      "45 U+004E\n",
      "46 U+004F\n",
      "47 U+0050\n",
      "48 U+0051\n",
      "49 U+0052\n",
      "50 U+0053\n",
      "51 U+0054\n",
      "52 U+0055\n",
      "53 U+0056\n",
      "54 U+0057\n",
      "55 U+0058\n",
      "56 U+0059\n",
      "57 U+005A\n",
      "58 U+005C\n",
      "59 U+005F\n",
      "60 U+0061\n",
      "61 U+0062\n",
      "62 U+0063\n",
      "63 U+0064\n",
      "64 U+0065\n",
      "65 U+0066\n",
      "66 U+0067\n",
      "67 U+0068\n",
      "68 U+0069\n",
      "69 U+006A\n",
      "70 U+006B\n",
      "71 U+006C\n",
      "72 U+006D\n",
      "73 U+006E\n",
      "74 U+006F\n",
      "75 U+0070\n",
      "76 U+0071\n",
      "77 U+0072\n",
      "78 U+0073\n",
      "79 U+0074\n",
      "80 U+0075\n",
      "81 U+0076\n",
      "82 U+0077\n",
      "83 U+0078\n",
      "84 U+0079\n",
      "85 U+007A\n",
      "86 U+00A2\n",
      "87 U+00A3\n",
      "88 U+00A7\n",
      "89 U+00A8\n",
      "90 U+00AC\n",
      "91 U+00B0\n",
      "92 U+00B2\n",
      "93 U+00B3\n",
      "94 U+00B7\n",
      "95 U+00B9\n",
      "96 U+00BA\n",
      "97 U+00C0\n",
      "98 U+00C1\n",
      "99 U+00C2\n",
      "100 U+00C3\n",
      "101 U+00C4\n",
      "102 U+00C7\n",
      "103 U+00C8\n",
      "104 U+00C9\n",
      "105 U+00CA\n",
      "106 U+00CB\n",
      "107 U+00CC\n",
      "108 U+00CD\n",
      "109 U+00CE\n",
      "110 U+00CF\n",
      "111 U+00D2\n",
      "112 U+00D3\n",
      "113 U+00D4\n",
      "114 U+00D5\n",
      "115 U+00D6\n",
      "116 U+00D9\n",
      "117 U+00DA\n",
      "118 U+00DB\n",
      "119 U+00DC\n",
      "120 U+00DD\n",
      "121 U+00E0\n",
      "122 U+00E1\n",
      "123 U+00E2\n",
      "124 U+00E3\n",
      "125 U+00E4\n",
      "126 U+00E7\n",
      "127 U+00E8\n",
      "128 U+00E9\n",
      "129 U+00EA\n",
      "130 U+00EB\n",
      "131 U+00EC\n",
      "132 U+00ED\n",
      "133 U+00EE\n",
      "134 U+00EF\n",
      "135 U+00F1\n",
      "136 U+00F2\n",
      "137 U+00F3\n",
      "138 U+00F4\n",
      "139 U+00F5\n",
      "140 U+00F6\n",
      "141 U+00F9\n",
      "142 U+00FA\n",
      "143 U+00FB\n",
      "144 U+00FC\n",
      "145 U+00FD\n"
     ]
    }
   ],
   "source": [
    "for idx, name in enumerate(class_names):\n",
    "    print(idx, name)"
   ]
  }
 ],
 "metadata": {
  "kernelspec": {
   "display_name": "tf-gpu",
   "language": "python",
   "name": "python3"
  },
  "language_info": {
   "codemirror_mode": {
    "name": "ipython",
    "version": 3
   },
   "file_extension": ".py",
   "mimetype": "text/x-python",
   "name": "python",
   "nbconvert_exporter": "python",
   "pygments_lexer": "ipython3",
   "version": "3.11.14"
  }
 },
 "nbformat": 4,
 "nbformat_minor": 5
}
