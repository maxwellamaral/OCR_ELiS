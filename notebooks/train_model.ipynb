{
 "cells": [
  {
   "cell_type": "markdown",
   "id": "doc-intro",
   "metadata": {},
   "source": [
    "# Treinamento do Modelo de OCR\\n\\n",
    "Este notebook é dedicado ao treinamento de uma Rede Neural Convolucional (CNN) para a classificação de caracteres (visografemas) do dataset sintético gerado anteriormente. As principais etapas são:\\n\\n",
    "- **Carregamento dos Dados**: Carrega os conjuntos de treino, validação e teste a partir da estrutura de diretórios criada.\\n",
    "- **Construção do Modelo**: Define a arquitetura da CNN, incluindo camadas convolucionais, de pooling, dropout e de classificação.\\n",
    "- **Treinamento**: Compila e treina o modelo utilizando os dados de treino e validação, monitorando a acurácia e a perda ao longo das épocas.\\n",
    "- **Avaliação**: Avalia o desempenho do modelo treinado no conjunto de teste para verificar sua capacidade de generalização.\\n",
    "- **Visualização**: Plota gráficos da acurácia e perda durante o treinamento para análise do comportamento do modelo."
   ]
  },
  {
   "cell_type": "markdown",
   "id": "doc-imports-train",
   "metadata": {},
   "source": [
    "## Importação de Bibliotecas\\n\\n",
    "Importa as bibliotecas essenciais para o treinamento do modelo, incluindo TensorFlow para a construção e treinamento da rede neural, Matplotlib para visualização e `os` e `pathlib` para manipulação de caminhos de arquivo."
   ]
  },
  {
   "cell_type": "code",
   "execution_count": 5,
   "id": "b3b59063",
   "metadata": {},
   "outputs": [],
   "source": [
    "import tensorflow as tf\\n",
    "from tensorflow.keras import layers, models\\n",
    "import matplotlib.pyplot as plt\\n",
    "import numpy as np\\n",
    "import os\\n",
    "from pathlib import Path"
   ]
  },
  {
   "cell_type": "markdown",
   "id": "doc-find-root-train",
   "metadata": {},
   "source": [
    "## Localização da Raiz do Projeto\\n\\n",
    "A função `find_project_root` localiza o diretório raiz do projeto para garantir que os caminhos para os dados sejam resolvidos corretamente."
   ]
  },
  {
   "cell_type": "code",
   "execution_count": 6,
   "id": "a856b90a",
   "metadata": {},
   "outputs": [],
   "source": [
    "\\n",
    "def find_project_root(markers=(\\"pyproject.toml\\", \\".git\\")) -> Path:\\n",
    "    '''\\n",
    "    Descobre a raiz do projeto subindo diretórios até encontrar um marcador.\\n",
    "\\n",
    "    Parâmetros:\\n",
    "        markers (tuple): Nomes de arquivos/pastas que indicam a raiz (ex.: \\"pyproject.toml\\", \\".git\\").\\n",
    "\\n",
    "    Retorna:\\n",
    "        pathlib.Path: Aponta para a raiz do projeto, ou o diretório atual como fallback.\\n",
    "    '''\\n",
    "    p = Path.cwd().resolve()\\n",
    "    for parent in [p, *p.parents]:\\n",
    "        if any((parent / m).exists() for m in markers):\\n",
    "            return parent\\n",
    "    return p\\n",
    "\\n",
    "ROOT = find_project_root()"
   ]
  },
  {
   "cell_type": "markdown",
   "id": "doc-config-train",
   "metadata": {},
   "source": [
    "## Configurações do Treinamento\\n\\n",
    "Define os hiperparâmetros e configurações para o processo de treinamento, incluindo caminhos, dimensões das imagens, tamanho do lote (batch size), número de épocas e o número total de classes."
   ]
  },
  {
   "cell_type": "code",
   "execution_count": 11,
   "id": "5e3d8d5f",
   "metadata": {},
   "outputs": [],
   "source": [
    "# --- Configurações ---\\n",
    "# Configurações\\n",
    "DATA_DIR = ROOT / \\"data\\"\\n",
    "DATASET_DIR = DATA_DIR / \\"raw\\" / \\"dataset\\"\\n",
    "\\n",
    "IMG_HEIGHT = 64\\n",
    "IMG_WIDTH = 64\\n",
    "BATCH_SIZE = 32\\n",
    "EPOCHS = 20\\n",
    "NUM_CLASSES = 149 # Número de símbolos\\n",
    "MODEL_SAVE_PATH = DATA_DIR / \\"processed\\" / \\"modelo_ocr_simbolos.keras\\""
   ]
  },
  {
   "cell_type": "markdown",
   "id": "doc-load-datasets",
   "metadata": {},
   "source": [
    "## Carregamento e Preparação dos Dados\\n\\n",
    "A função `load_datasets` utiliza a utilidade `image_dataset_from_directory` do TensorFlow para carregar os dados de treino, validação e teste diretamente dos diretórios. A função garante que as classes sejam mapeadas de forma consistente entre os conjuntos."
   ]
  },
  {
   "cell_type": "code",
   "execution_count": 8,
   "id": "e593628f",
   "metadata": {},
   "outputs": [],
   "source": [
    "# --- Carregamento e Preparação dos Dados ---\\n",
    "def load_datasets():\\n",
    "    '''Carrega os datasets de treino, validação e teste a partir dos diretórios.\\n",
    "\\n",
    "    Utiliza `tf.keras.preprocessing.image_dataset_from_directory` para criar lotes\\n",
    "    de imagens e rótulos. A função também garante que os nomes das classes (e, portanto,\\n",
    "    os índices) sejam consistentes entre os diferentes conjuntos de dados.\\n",
    "\\n",
    "    Retorna:\\n",
    "        tuple: Uma tupla contendo (train_ds, val_ds, test_ds, class_names).\\n",
    "    '''\\n",
    "\\n",
    "    class_names = sorted(os.listdir(os.path.join(DATASET_DIR, 'train')))\\n",
    "\\n",
    "\\n",
    "    train_ds = tf.keras.preprocessing.image_dataset_from_directory(\\n",
    "        os.path.join(DATASET_DIR, 'train'),\\n",
    "        image_size=(IMG_HEIGHT, IMG_WIDTH),\\n",
    "        batch_size=BATCH_SIZE,\\n",
    "        color_mode='grayscale',\\n",
    "        # lambel_mode='categorical',\\n",
    "        label_mode='int',\\n",
    "        validation_split=None,\\n",
    "        # seed=123,\\n",
    "        class_names=class_names  # garante mapeamento idêntico\\n",
    "    )\\n",
    "    val_ds = tf.keras.preprocessing.image_dataset_from_directory(\\n",
    "        os.path.join(DATASET_DIR, 'validation'),\\n",
    "        image_size=(IMG_HEIGHT, IMG_WIDTH),\\n",
    "        batch_size=BATCH_SIZE,\\n",
    "        color_mode='grayscale',\\n",
    "        # label_mode='categorical',\\n",
    "        label_mode='int',\\n",
    "        validation_split=None,\\n",
    "        # seed=123,\\n",
    "        class_names=class_names  # garante mapeamento idêntico\\n",
    "    )\\n",
    "    test_ds = tf.keras.preprocessing.image_dataset_from_directory(\\n",
    "        os.path.join(DATASET_DIR, 'test'),\\n",
    "        image_size=(IMG_HEIGHT, IMG_WIDTH),\\n",
    "        batch_size=BATCH_SIZE,\\n",
    "        color_mode='grayscale',\\n",
    "        # label_mode='categorical',\\n",
    "        label_mode='int',\\n",
    "        class_names=class_names\\n",
    "    )\\n",
    "\\n",
    "    # class_names = train_ds.class_names\\n",
    "    # print(f'Classes encontradas: {class_names}')\\n",
    "\\n",
    "    return train_ds, val_ds, test_ds, class_names"
   ]
  },
  {
   "cell_type": "markdown",
   "id": "doc-build-model",
   "metadata": {},
   "source": [
    "## Construção da Arquitetura do Modelo\\n\\n",
    "A função `build_model` define a arquitetura da CNN. O modelo é composto por:\\n",
    "- Uma camada de `Rescaling` para normalizar os valores dos pixels.\\n",
    "- Três blocos de `Conv2D` + `MaxPooling2D` para extração de características.\\n",
    "- Camadas `Flatten`, `Dense` e `Dropout` para a classificação final.\\n",
    "O modelo é compilado com o otimizador Adam e a função de perda `sparse_categorical_crossentropy`."
   ]
  },
  {
   "cell_type": "code",
   "execution_count": 9,
   "id": "fd43faa9",
   "metadata": {},
   "outputs": [],
   "source": [
    "def build_model():\\n",
    "    '''Constrói e compila o modelo da Rede Neural Convolucional (CNN).\\n",
    "\\n",
    "    A arquitetura consiste em três blocos convolucionais seguidos por uma camada densa\\n",
    "    de classificação. Uma camada de dropout é usada para regularização.\\n",
    "\\n",
    "    Retorna:\\n",
    "        tf.keras.Model: O modelo de CNN compilado.\\n",
    "    '''\\n",
    "    model = models.Sequential([\\n",
    "        # Camada de normalização para reescalar os pixels para [0,1]\\n",
    "        layers.Rescaling(1./255, input_shape=(IMG_HEIGHT, IMG_WIDTH, 1)),\\n",
    "\\n",
    "        # Camada Convolucional 1\\n",
    "        layers.Conv2D(32, (3, 3), activation='relu', padding='same'),\\n",
    "        layers.MaxPooling2D((2, 2)),\\n",
    "\\n",
    "        # Camada Convolucional 2\\n",
    "        layers.Conv2D(64, (3, 3), activation='relu', padding='same'),\\n",
    "        layers.MaxPooling2D((2, 2)),\\n",
    "\\n",
    "        # Camada Convolucional 3\\n",
    "        layers.Conv2D(128, (3, 3), activation='relu', padding='same'),\\n",
    "        layers.MaxPooling2D((2, 2)),\\n",
    "\\n",
    "        # Camada de Classificação\\n",
    "        layers.Flatten(),\\n",
    "        layers.Dense(256, activation='relu'),\\n",
    "        layers.Dropout(0.5),\\n",
    "        layers.Dense(NUM_CLASSES, activation='softmax') # Camada de saída\\n",
    "    ])\\n",
    "\\n",
    "    model.compile(optimizer='adam',\\n",
    "                  loss='sparse_categorical_crossentropy',\\n",
    "                  metrics=['accuracy'])\\n",
    "\\n",
    "    return model"
   ]
  },
  {
   "cell_type": "markdown",
   "id": "doc-plot-history",
   "metadata": {},
   "source": [
    "## Visualização do Histórico de Treinamento\\n\\n",
    "A função `plot_history` gera gráficos que mostram a evolução da acurácia e da perda nos conjuntos de treino e validação ao longo das épocas. Isso é útil para diagnosticar problemas como overfitting."
   ]
  },
  {
   "cell_type": "code",
   "execution_count": 10,
   "id": "172b457a",
   "metadata": {},
   "outputs": [],
   "source": [
    "def plot_history(history):\\n",
    "    '''Plota os gráficos de acurácia e perda do treinamento e validação.\\n",
    "\\n",
    "    Args:\\n",
    "        history (tf.keras.callbacks.History): O objeto de histórico retornado pelo\\n",
    "            método `model.fit()`\\n",
    "    '''\\n",
    "    acc = history.history['accuracy']\\n",
    "    val_acc = history.history['val_accuracy']\\n",
    "    loss = history.history['loss']\\n",
    "    val_loss = history.history['val_loss']\\n",
    "\\n",
    "    epochs_range = range(len(acc))\\n",
    "\\n",
    "    plt.figure(figsize=(12, 5))\\n",
    "    plt.subplot(1, 2, 1)\\n",
    "    plt.plot(epochs_range, acc, label='Acurácia de Treino')\\n",
    "    plt.plot(epochs_range, val_acc, label='Acurácia de Validação')\\n",
    "    plt.legend(loc='lower right')\\n",
    "    plt.title('Acurácia de Treino e Validação')\\n",
    "\\n",
    "    plt.subplot(1, 2, 2)\\n",
    "    plt.plot(epochs_range, loss, label='Perda de Treino')\\n",
    "    plt.plot(epochs_range, val_loss, label='Perda de Validação')\\n",
    "    plt.legend(loc='upper right')\\n",
    "    plt.title('Perda de Treino e Validação')\\n",
    "    plt.show()"
   ]
  },
  {
   "cell_type": "markdown",
   "id": "doc-main-execution",
   "metadata": {},
   "source": [
    "## Execução Principal\\n\\n",
    "Esta célula orquestra todo o processo: carrega os dados, otimiza o pipeline de entrada com `cache()` e `prefetch()`, constrói o modelo, treina-o, salva o modelo final e avalia seu desempenho no conjunto de teste. Por fim, exibe os gráficos de treinamento."
   ]
  },
  {
   "cell_type": "code",
   "execution_count": 12,
   "id": "85185ddb",
   "metadata": {},
   "outputs": [],
   "source": [
    "if not os.path.exists(DATASET_DIR):\\n",
    "    print(f\"ERRO: Diretório '{DATASET_DIR}' não encontrado. Execute o script 'gerador_dataset.py' primeiro.\")\\n",
    "else:\\n",
    "    train_ds, val_ds, test_ds, class_names = load_datasets()\\n",
    "\\n",
    "    # Otimiza a performance de carregamento dos dados\\n",
    "    AUTOTUNE = tf.data.AUTOTUNE\\n",
    "    train_ds = train_ds.cache().prefetch(buffer_size=AUTOTUNE)\\n",
    "    val_ds = val_ds.cache().prefetch(buffer_size=AUTOTUNE)\\n",
    "    with tf.device('/GPU:0'):\\n",
    "        model = build_model()\\n",
    "    model.summary()\\n",
    "\\n",
    "    print(\"\\nIniciando o treinamento...\")\\n",
    "    history = model.fit(\\n",
    "        train_ds,\\n",
    "        validation_data=val_ds,\\n",
    "        epochs=EPOCHS\\n",
    "    )\\n",
    "\\n",
    "    print(\"\\nTreinamento concluído!\")\\n",
    "\\n",
    "    # Salva o modelo treinado\\n",
    "    model.save(MODEL_SAVE_PATH)\\n",
    "    print(f\"Modelo salvo em '{MODEL_SAVE_PATH}'\")\\n",
    "\\n",
    "    # Avalia o modelo no conjunto de teste\\n",
    "    print(\"\\nAvaliando o modelo no conjunto de teste...\")\\n",
    "    test_loss, test_acc = model.evaluate(test_ds, verbose=2)\\n",
    "    print(f\"\\nAcurácia no conjunto de teste: {test_acc:.4f}\")\\n",
    "\\n",
    "    # Plota os gráficos\\n",
    "    plot_history(history)\\n"
   ]
  },
  {
   "cell_type": "markdown",
   "id": "doc-export-classes",
   "metadata": {},
   "source": [
    "## Exportação dos Nomes das Classes\\n\\n",
    "Salva a lista de nomes de classes em um arquivo JSON. Isso é crucial para que o mesmo mapeamento de índice para classe possa ser usado posteriormente durante a etapa de predição."
   ]
  },
  {
   "cell_type": "code",
   "execution_count": 13,
   "id": "ddc377ba",
   "metadata": {},
   "outputs": [],
   "source": [
    "# Exportar class_names\\n",
    "import json\\n",
    "\\n",
    "CLASS_NAMES_PATH = DATA_DIR / \\"raw\\" / \\"class_names.json\\"\\n",
    "\\n",
    "with open(CLASS_NAMES_PATH, 'w', encoding='utf-8') as f:\\n",
    "    json.dump(class_names, f, ensure_ascii=False)\\n",
    "print(\\"Nomes das classes salvos em 'class_names.json'\\")\\n",
    "print(\\"Processo concluído!\\")"
   ]
  },
  {
   "cell_type": "code",
   "execution_count": 14,
   "id": "c7123978",
   "metadata": {},
   "outputs": [],
   "source": [
    "for idx, name in enumerate(class_names):\\n",
    "    print(idx, name)"
   ]
  }
 ],
 "metadata": {
  "kernelspec": {
   "display_name": "tf-gpu",
   "language": "python",
   "name": "python3"
  },
  "language_info": {
   "codemirror_mode": {
    "name": "ipython",
    "version": 3
   },
   "file_extension": ".py",
   "mimetype": "text/x-python",
   "name": "python",
   "nbconvert_exporter": "python",
   "pygments_lexer": "ipython3",
   "version": "3.11.14"
  }
 },
 "nbformat": 4,
 "nbformat_minor": 5
}