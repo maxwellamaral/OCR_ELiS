{
 "cells": [
  {
   "cell_type": "markdown",
   "metadata": {},
   "source": [
    "# OCR de Imagem com Modelo Treinado\n",
    "\n",
    "Este notebook realiza OCR na imagem [ocr_test_image.png](../data/raw/ocr_test_image.png) utilizando o modelo treinado [modelo_ocr_simbolos.keras](../data/processed/modelo_ocr_simbolos.keras)."
   ]
  },
  {
   "cell_type": "code",
   "execution_count": 1,
   "metadata": {},
   "outputs": [
    {
     "name": "stderr",
     "output_type": "stream",
     "text": [
      "2025-10-18 14:59:22.882024: I tensorflow/core/util/port.cc:153] oneDNN custom operations are on. You may see slightly different numerical results due to floating-point round-off errors from different computation orders. To turn them off, set the environment variable `TF_ENABLE_ONEDNN_OPTS=0`.\n",
      "2025-10-18 14:59:22.919946: I tensorflow/core/platform/cpu_feature_guard.cc:210] This TensorFlow binary is optimized to use available CPU instructions in performance-critical operations.\n",
      "To enable the following instructions: AVX2 AVX_VNNI FMA, in other operations, rebuild TensorFlow with the appropriate compiler flags.\n",
      "2025-10-18 14:59:27.166806: I tensorflow/core/util/port.cc:153] oneDNN custom operations are on. You may see slightly different numerical results due to floating-point round-off errors from different computation orders. To turn them off, set the environment variable `TF_ENABLE_ONEDNN_OPTS=0`.\n"
     ]
    }
   ],
   "source": [
    "import numpy as np\n",
    "import tensorflow as tf\n",
    "from PIL import Image, ImageOps\n",
    "import matplotlib.pyplot as plt\n",
    "import json\n",
    "from pathlib import Path\n",
    "import cv2"
   ]
  },
  {
   "cell_type": "code",
   "execution_count": 2,
   "metadata": {},
   "outputs": [
    {
     "name": "stdout",
     "output_type": "stream",
     "text": [
      "Raiz do projeto: /mnt/x/01-projetos/11-work/11.32-doutorado/DL/projeto_elis\n"
     ]
    }
   ],
   "source": [
    "def find_project_root(markers=(\"pyproject.toml\", \".git\")) -> Path:\n",
    "    \"\"\"\n",
    "    Descobre a raiz do projeto subindo diretórios até encontrar um marcador.\n",
    "    \"\"\"\n",
    "    p = Path.cwd().resolve()\n",
    "    for parent in [p, *p.parents]:\n",
    "        if any((parent / m).exists() for m in markers):\n",
    "            return parent\n",
    "    return p\n",
    "\n",
    "ROOT = find_project_root()\n",
    "print(f\"Raiz do projeto: {ROOT}\")"
   ]
  },
  {
   "cell_type": "code",
   "execution_count": 3,
   "metadata": {},
   "outputs": [],
   "source": [
    "# Configurações\n",
    "DATA_DIR = ROOT / \"data\"\n",
    "MODEL_PATH = DATA_DIR / \"processed\" / \"modelo_ocr_simbolos.keras\"\n",
    "IMAGE_PATH = DATA_DIR / \"raw\" / \"ocr_test_image.png\"\n",
    "CLASS_NAMES_PATH = DATA_DIR / \"raw\" / \"class_names.json\"\n",
    "\n",
    "IMG_HEIGHT = 64\n",
    "IMG_WIDTH = 64"
   ]
  },
  {
   "cell_type": "code",
   "execution_count": 4,
   "metadata": {},
   "outputs": [
    {
     "name": "stdout",
     "output_type": "stream",
     "text": [
      "Carregando modelo...\n"
     ]
    },
    {
     "name": "stderr",
     "output_type": "stream",
     "text": [
      "WARNING: All log messages before absl::InitializeLog() is called are written to STDERR\n",
      "I0000 00:00:1760810369.524114   67184 gpu_device.cc:2020] Created device /job:localhost/replica:0/task:0/device:GPU:0 with 5561 MB memory:  -> device: 0, name: NVIDIA GeForce RTX 4060 Laptop GPU, pci bus id: 0000:01:00.0, compute capability: 8.9\n"
     ]
    },
    {
     "name": "stdout",
     "output_type": "stream",
     "text": [
      "✓ Modelo carregado com sucesso!\n"
     ]
    },
    {
     "data": {
      "text/html": [
       "<pre style=\"white-space:pre;overflow-x:auto;line-height:normal;font-family:Menlo,'DejaVu Sans Mono',consolas,'Courier New',monospace\"><span style=\"font-weight: bold\">Model: \"sequential\"</span>\n",
       "</pre>\n"
      ],
      "text/plain": [
       "\u001b[1mModel: \"sequential\"\u001b[0m\n"
      ]
     },
     "metadata": {},
     "output_type": "display_data"
    },
    {
     "data": {
      "text/html": [
       "<pre style=\"white-space:pre;overflow-x:auto;line-height:normal;font-family:Menlo,'DejaVu Sans Mono',consolas,'Courier New',monospace\">┏━━━━━━━━━━━━━━━━━━━━━━━━━━━━━━━━━┳━━━━━━━━━━━━━━━━━━━━━━━━┳━━━━━━━━━━━━━━━┓\n",
       "┃<span style=\"font-weight: bold\"> Layer (type)                    </span>┃<span style=\"font-weight: bold\"> Output Shape           </span>┃<span style=\"font-weight: bold\">       Param # </span>┃\n",
       "┡━━━━━━━━━━━━━━━━━━━━━━━━━━━━━━━━━╇━━━━━━━━━━━━━━━━━━━━━━━━╇━━━━━━━━━━━━━━━┩\n",
       "│ rescaling (<span style=\"color: #0087ff; text-decoration-color: #0087ff\">Rescaling</span>)           │ (<span style=\"color: #00d7ff; text-decoration-color: #00d7ff\">None</span>, <span style=\"color: #00af00; text-decoration-color: #00af00\">64</span>, <span style=\"color: #00af00; text-decoration-color: #00af00\">64</span>, <span style=\"color: #00af00; text-decoration-color: #00af00\">1</span>)      │             <span style=\"color: #00af00; text-decoration-color: #00af00\">0</span> │\n",
       "├─────────────────────────────────┼────────────────────────┼───────────────┤\n",
       "│ conv2d (<span style=\"color: #0087ff; text-decoration-color: #0087ff\">Conv2D</span>)                 │ (<span style=\"color: #00d7ff; text-decoration-color: #00d7ff\">None</span>, <span style=\"color: #00af00; text-decoration-color: #00af00\">64</span>, <span style=\"color: #00af00; text-decoration-color: #00af00\">64</span>, <span style=\"color: #00af00; text-decoration-color: #00af00\">32</span>)     │           <span style=\"color: #00af00; text-decoration-color: #00af00\">320</span> │\n",
       "├─────────────────────────────────┼────────────────────────┼───────────────┤\n",
       "│ max_pooling2d (<span style=\"color: #0087ff; text-decoration-color: #0087ff\">MaxPooling2D</span>)    │ (<span style=\"color: #00d7ff; text-decoration-color: #00d7ff\">None</span>, <span style=\"color: #00af00; text-decoration-color: #00af00\">32</span>, <span style=\"color: #00af00; text-decoration-color: #00af00\">32</span>, <span style=\"color: #00af00; text-decoration-color: #00af00\">32</span>)     │             <span style=\"color: #00af00; text-decoration-color: #00af00\">0</span> │\n",
       "├─────────────────────────────────┼────────────────────────┼───────────────┤\n",
       "│ conv2d_1 (<span style=\"color: #0087ff; text-decoration-color: #0087ff\">Conv2D</span>)               │ (<span style=\"color: #00d7ff; text-decoration-color: #00d7ff\">None</span>, <span style=\"color: #00af00; text-decoration-color: #00af00\">32</span>, <span style=\"color: #00af00; text-decoration-color: #00af00\">32</span>, <span style=\"color: #00af00; text-decoration-color: #00af00\">64</span>)     │        <span style=\"color: #00af00; text-decoration-color: #00af00\">18,496</span> │\n",
       "├─────────────────────────────────┼────────────────────────┼───────────────┤\n",
       "│ max_pooling2d_1 (<span style=\"color: #0087ff; text-decoration-color: #0087ff\">MaxPooling2D</span>)  │ (<span style=\"color: #00d7ff; text-decoration-color: #00d7ff\">None</span>, <span style=\"color: #00af00; text-decoration-color: #00af00\">16</span>, <span style=\"color: #00af00; text-decoration-color: #00af00\">16</span>, <span style=\"color: #00af00; text-decoration-color: #00af00\">64</span>)     │             <span style=\"color: #00af00; text-decoration-color: #00af00\">0</span> │\n",
       "├─────────────────────────────────┼────────────────────────┼───────────────┤\n",
       "│ conv2d_2 (<span style=\"color: #0087ff; text-decoration-color: #0087ff\">Conv2D</span>)               │ (<span style=\"color: #00d7ff; text-decoration-color: #00d7ff\">None</span>, <span style=\"color: #00af00; text-decoration-color: #00af00\">16</span>, <span style=\"color: #00af00; text-decoration-color: #00af00\">16</span>, <span style=\"color: #00af00; text-decoration-color: #00af00\">128</span>)    │        <span style=\"color: #00af00; text-decoration-color: #00af00\">73,856</span> │\n",
       "├─────────────────────────────────┼────────────────────────┼───────────────┤\n",
       "│ max_pooling2d_2 (<span style=\"color: #0087ff; text-decoration-color: #0087ff\">MaxPooling2D</span>)  │ (<span style=\"color: #00d7ff; text-decoration-color: #00d7ff\">None</span>, <span style=\"color: #00af00; text-decoration-color: #00af00\">8</span>, <span style=\"color: #00af00; text-decoration-color: #00af00\">8</span>, <span style=\"color: #00af00; text-decoration-color: #00af00\">128</span>)      │             <span style=\"color: #00af00; text-decoration-color: #00af00\">0</span> │\n",
       "├─────────────────────────────────┼────────────────────────┼───────────────┤\n",
       "│ flatten (<span style=\"color: #0087ff; text-decoration-color: #0087ff\">Flatten</span>)               │ (<span style=\"color: #00d7ff; text-decoration-color: #00d7ff\">None</span>, <span style=\"color: #00af00; text-decoration-color: #00af00\">8192</span>)           │             <span style=\"color: #00af00; text-decoration-color: #00af00\">0</span> │\n",
       "├─────────────────────────────────┼────────────────────────┼───────────────┤\n",
       "│ dense (<span style=\"color: #0087ff; text-decoration-color: #0087ff\">Dense</span>)                   │ (<span style=\"color: #00d7ff; text-decoration-color: #00d7ff\">None</span>, <span style=\"color: #00af00; text-decoration-color: #00af00\">256</span>)            │     <span style=\"color: #00af00; text-decoration-color: #00af00\">2,097,408</span> │\n",
       "├─────────────────────────────────┼────────────────────────┼───────────────┤\n",
       "│ dropout (<span style=\"color: #0087ff; text-decoration-color: #0087ff\">Dropout</span>)               │ (<span style=\"color: #00d7ff; text-decoration-color: #00d7ff\">None</span>, <span style=\"color: #00af00; text-decoration-color: #00af00\">256</span>)            │             <span style=\"color: #00af00; text-decoration-color: #00af00\">0</span> │\n",
       "├─────────────────────────────────┼────────────────────────┼───────────────┤\n",
       "│ dense_1 (<span style=\"color: #0087ff; text-decoration-color: #0087ff\">Dense</span>)                 │ (<span style=\"color: #00d7ff; text-decoration-color: #00d7ff\">None</span>, <span style=\"color: #00af00; text-decoration-color: #00af00\">149</span>)            │        <span style=\"color: #00af00; text-decoration-color: #00af00\">38,293</span> │\n",
       "└─────────────────────────────────┴────────────────────────┴───────────────┘\n",
       "</pre>\n"
      ],
      "text/plain": [
       "┏━━━━━━━━━━━━━━━━━━━━━━━━━━━━━━━━━┳━━━━━━━━━━━━━━━━━━━━━━━━┳━━━━━━━━━━━━━━━┓\n",
       "┃\u001b[1m \u001b[0m\u001b[1mLayer (type)                   \u001b[0m\u001b[1m \u001b[0m┃\u001b[1m \u001b[0m\u001b[1mOutput Shape          \u001b[0m\u001b[1m \u001b[0m┃\u001b[1m \u001b[0m\u001b[1m      Param #\u001b[0m\u001b[1m \u001b[0m┃\n",
       "┡━━━━━━━━━━━━━━━━━━━━━━━━━━━━━━━━━╇━━━━━━━━━━━━━━━━━━━━━━━━╇━━━━━━━━━━━━━━━┩\n",
       "│ rescaling (\u001b[38;5;33mRescaling\u001b[0m)           │ (\u001b[38;5;45mNone\u001b[0m, \u001b[38;5;34m64\u001b[0m, \u001b[38;5;34m64\u001b[0m, \u001b[38;5;34m1\u001b[0m)      │             \u001b[38;5;34m0\u001b[0m │\n",
       "├─────────────────────────────────┼────────────────────────┼───────────────┤\n",
       "│ conv2d (\u001b[38;5;33mConv2D\u001b[0m)                 │ (\u001b[38;5;45mNone\u001b[0m, \u001b[38;5;34m64\u001b[0m, \u001b[38;5;34m64\u001b[0m, \u001b[38;5;34m32\u001b[0m)     │           \u001b[38;5;34m320\u001b[0m │\n",
       "├─────────────────────────────────┼────────────────────────┼───────────────┤\n",
       "│ max_pooling2d (\u001b[38;5;33mMaxPooling2D\u001b[0m)    │ (\u001b[38;5;45mNone\u001b[0m, \u001b[38;5;34m32\u001b[0m, \u001b[38;5;34m32\u001b[0m, \u001b[38;5;34m32\u001b[0m)     │             \u001b[38;5;34m0\u001b[0m │\n",
       "├─────────────────────────────────┼────────────────────────┼───────────────┤\n",
       "│ conv2d_1 (\u001b[38;5;33mConv2D\u001b[0m)               │ (\u001b[38;5;45mNone\u001b[0m, \u001b[38;5;34m32\u001b[0m, \u001b[38;5;34m32\u001b[0m, \u001b[38;5;34m64\u001b[0m)     │        \u001b[38;5;34m18,496\u001b[0m │\n",
       "├─────────────────────────────────┼────────────────────────┼───────────────┤\n",
       "│ max_pooling2d_1 (\u001b[38;5;33mMaxPooling2D\u001b[0m)  │ (\u001b[38;5;45mNone\u001b[0m, \u001b[38;5;34m16\u001b[0m, \u001b[38;5;34m16\u001b[0m, \u001b[38;5;34m64\u001b[0m)     │             \u001b[38;5;34m0\u001b[0m │\n",
       "├─────────────────────────────────┼────────────────────────┼───────────────┤\n",
       "│ conv2d_2 (\u001b[38;5;33mConv2D\u001b[0m)               │ (\u001b[38;5;45mNone\u001b[0m, \u001b[38;5;34m16\u001b[0m, \u001b[38;5;34m16\u001b[0m, \u001b[38;5;34m128\u001b[0m)    │        \u001b[38;5;34m73,856\u001b[0m │\n",
       "├─────────────────────────────────┼────────────────────────┼───────────────┤\n",
       "│ max_pooling2d_2 (\u001b[38;5;33mMaxPooling2D\u001b[0m)  │ (\u001b[38;5;45mNone\u001b[0m, \u001b[38;5;34m8\u001b[0m, \u001b[38;5;34m8\u001b[0m, \u001b[38;5;34m128\u001b[0m)      │             \u001b[38;5;34m0\u001b[0m │\n",
       "├─────────────────────────────────┼────────────────────────┼───────────────┤\n",
       "│ flatten (\u001b[38;5;33mFlatten\u001b[0m)               │ (\u001b[38;5;45mNone\u001b[0m, \u001b[38;5;34m8192\u001b[0m)           │             \u001b[38;5;34m0\u001b[0m │\n",
       "├─────────────────────────────────┼────────────────────────┼───────────────┤\n",
       "│ dense (\u001b[38;5;33mDense\u001b[0m)                   │ (\u001b[38;5;45mNone\u001b[0m, \u001b[38;5;34m256\u001b[0m)            │     \u001b[38;5;34m2,097,408\u001b[0m │\n",
       "├─────────────────────────────────┼────────────────────────┼───────────────┤\n",
       "│ dropout (\u001b[38;5;33mDropout\u001b[0m)               │ (\u001b[38;5;45mNone\u001b[0m, \u001b[38;5;34m256\u001b[0m)            │             \u001b[38;5;34m0\u001b[0m │\n",
       "├─────────────────────────────────┼────────────────────────┼───────────────┤\n",
       "│ dense_1 (\u001b[38;5;33mDense\u001b[0m)                 │ (\u001b[38;5;45mNone\u001b[0m, \u001b[38;5;34m149\u001b[0m)            │        \u001b[38;5;34m38,293\u001b[0m │\n",
       "└─────────────────────────────────┴────────────────────────┴───────────────┘\n"
      ]
     },
     "metadata": {},
     "output_type": "display_data"
    },
    {
     "data": {
      "text/html": [
       "<pre style=\"white-space:pre;overflow-x:auto;line-height:normal;font-family:Menlo,'DejaVu Sans Mono',consolas,'Courier New',monospace\"><span style=\"font-weight: bold\"> Total params: </span><span style=\"color: #00af00; text-decoration-color: #00af00\">6,685,121</span> (25.50 MB)\n",
       "</pre>\n"
      ],
      "text/plain": [
       "\u001b[1m Total params: \u001b[0m\u001b[38;5;34m6,685,121\u001b[0m (25.50 MB)\n"
      ]
     },
     "metadata": {},
     "output_type": "display_data"
    },
    {
     "data": {
      "text/html": [
       "<pre style=\"white-space:pre;overflow-x:auto;line-height:normal;font-family:Menlo,'DejaVu Sans Mono',consolas,'Courier New',monospace\"><span style=\"font-weight: bold\"> Trainable params: </span><span style=\"color: #00af00; text-decoration-color: #00af00\">2,228,373</span> (8.50 MB)\n",
       "</pre>\n"
      ],
      "text/plain": [
       "\u001b[1m Trainable params: \u001b[0m\u001b[38;5;34m2,228,373\u001b[0m (8.50 MB)\n"
      ]
     },
     "metadata": {},
     "output_type": "display_data"
    },
    {
     "data": {
      "text/html": [
       "<pre style=\"white-space:pre;overflow-x:auto;line-height:normal;font-family:Menlo,'DejaVu Sans Mono',consolas,'Courier New',monospace\"><span style=\"font-weight: bold\"> Non-trainable params: </span><span style=\"color: #00af00; text-decoration-color: #00af00\">0</span> (0.00 B)\n",
       "</pre>\n"
      ],
      "text/plain": [
       "\u001b[1m Non-trainable params: \u001b[0m\u001b[38;5;34m0\u001b[0m (0.00 B)\n"
      ]
     },
     "metadata": {},
     "output_type": "display_data"
    },
    {
     "data": {
      "text/html": [
       "<pre style=\"white-space:pre;overflow-x:auto;line-height:normal;font-family:Menlo,'DejaVu Sans Mono',consolas,'Courier New',monospace\"><span style=\"font-weight: bold\"> Optimizer params: </span><span style=\"color: #00af00; text-decoration-color: #00af00\">4,456,748</span> (17.00 MB)\n",
       "</pre>\n"
      ],
      "text/plain": [
       "\u001b[1m Optimizer params: \u001b[0m\u001b[38;5;34m4,456,748\u001b[0m (17.00 MB)\n"
      ]
     },
     "metadata": {},
     "output_type": "display_data"
    }
   ],
   "source": [
    "# Carrega o modelo treinado\n",
    "print(\"Carregando modelo...\")\n",
    "model = tf.keras.models.load_model(MODEL_PATH)\n",
    "print(\"✓ Modelo carregado com sucesso!\")\n",
    "model.summary()"
   ]
  },
  {
   "cell_type": "code",
   "execution_count": 5,
   "metadata": {},
   "outputs": [
    {
     "name": "stdout",
     "output_type": "stream",
     "text": [
      "✓ 146 classes carregadas\n",
      "Exemplos: ['U+0020', 'U+0021', 'U+0022', 'U+0023', 'U+0024']\n"
     ]
    }
   ],
   "source": [
    "# Carrega os nomes das classes\n",
    "with open(CLASS_NAMES_PATH, 'r', encoding='utf-8') as f:\n",
    "    class_names = json.load(f)\n",
    "print(f\"✓ {len(class_names)} classes carregadas\")\n",
    "print(f\"Exemplos: {class_names[:5]}\")"
   ]
  },
  {
   "cell_type": "code",
   "execution_count": 6,
   "metadata": {},
   "outputs": [],
   "source": [
    "def unicode_to_char(unicode_str: str) -> str:\n",
    "    \"\"\"\n",
    "    Converte 'U+XXXX' para o caractere correspondente.\n",
    "    Exemplo: 'U+0041' -> 'A'\n",
    "    \"\"\"\n",
    "    try:\n",
    "        codepoint = int(unicode_str.replace('U+', ''), 16)\n",
    "        return chr(codepoint)\n",
    "    except:\n",
    "        return '?'"
   ]
  },
  {
   "cell_type": "code",
   "execution_count": 7,
   "metadata": {},
   "outputs": [
    {
     "name": "stdout",
     "output_type": "stream",
     "text": [
      "Carregando imagem: /mnt/x/01-projetos/11-work/11.32-doutorado/DL/projeto_elis/data/raw/ocr_test_image.png\n"
     ]
    },
    {
     "data": {
      "image/png": "[encoded data removed]",
      "text/plain": [
       "<Figure size 1200x400 with 1 Axes>"
      ]
     },
     "metadata": {},
     "output_type": "display_data"
    },
    {
     "name": "stdout",
     "output_type": "stream",
     "text": [
      "Dimensões: (203, 64)\n",
      "Modo: L\n"
     ]
    }
   ],
   "source": [
    "# Carrega e exibe a imagem original\n",
    "print(f\"Carregando imagem: {IMAGE_PATH}\")\n",
    "original_image = Image.open(IMAGE_PATH)\n",
    "\n",
    "plt.figure(figsize=(12, 4))\n",
    "plt.imshow(original_image, cmap='gray')\n",
    "plt.title('Imagem Original para OCR')\n",
    "plt.axis('off')\n",
    "plt.show()\n",
    "\n",
    "print(f\"Dimensões: {original_image.size}\")\n",
    "print(f\"Modo: {original_image.mode}\")"
   ]
  },
  {
   "cell_type": "code",
   "execution_count": 8,
   "metadata": {},
   "outputs": [],
   "source": [
    "def preprocess_image_for_ocr(image: Image.Image) -> np.ndarray:\n",
    "    \"\"\"\n",
    "    Pré-processa a imagem para OCR:\n",
    "    - Converte para escala de cinza\n",
    "    - Aplica threshold para binarização\n",
    "    - Inverte cores se necessário (fundo branco, texto preto)\n",
    "    \"\"\"\n",
    "    # Converte para escala de cinza\n",
    "    if image.mode != 'L':\n",
    "        image = image.convert('L')\n",
    "\n",
    "    # Converte para numpy array\n",
    "    img_array = np.array(image)\n",
    "\n",
    "    # Aplica threshold adaptativo para melhor binarização\n",
    "    img_binary = cv2.adaptiveThreshold(\n",
    "        img_array, 255,\n",
    "        cv2.ADAPTIVE_THRESH_GAUSSIAN_C,\n",
    "        cv2.THRESH_BINARY, 11, 2\n",
    "    )\n",
    "\n",
    "    # Verifica se precisa inverter (modelo espera fundo branco, texto preto)\n",
    "    # Se a média é baixa, a imagem está com fundo escuro\n",
    "    if np.mean(img_binary) < 127:\n",
    "        img_binary = 255 - img_binary\n",
    "\n",
    "    return img_binary"
   ]
  },
  {
   "cell_type": "code",
   "execution_count": 9,
   "id": "4b11006c",
   "metadata": {},
   "outputs": [
    {
     "name": "stdout",
     "output_type": "stream",
     "text": [
      "Pré-processando imagem...\n"
     ]
    },
    {
     "data": {
      "image/png": "[encoded data removed]",
      "text/plain": [
       "<Figure size 1200x400 with 1 Axes>"
      ]
     },
     "metadata": {},
     "output_type": "display_data"
    }
   ],
   "source": [
    "# Pré-processa a imagem\n",
    "print(\"Pré-processando imagem...\")\n",
    "processed_image = preprocess_image_for_ocr(original_image)\n",
    "\n",
    "plt.figure(figsize=(12, 4))\n",
    "plt.imshow(processed_image, cmap='gray')\n",
    "plt.title('Imagem Pré-processada (Binarizada)')\n",
    "plt.axis('off')\n",
    "plt.show()"
   ]
  },
  {
   "cell_type": "code",
   "execution_count": 10,
   "id": "6516cb68",
   "metadata": {},
   "outputs": [],
   "source": [
    "def segment_characters_with_grouping(image_array: np.ndarray,\n",
    "                                     max_gap: int = 15,\n",
    "                                     min_component_area: int = 10) -> list:\n",
    "    \"\"\"\n",
    "    Segmenta caracteres compostos por múltiplos contornos próximos.\n",
    "    Similar ao OCR de Hangul onde um símbolo tem componentes separados.\n",
    "\n",
    "    Args:\n",
    "        image_array: Imagem binarizada\n",
    "        max_gap: Distância horizontal máxima entre contornos do mesmo símbolo\n",
    "        min_component_area: Área mínima para considerar um contorno válido\n",
    "\n",
    "    Returns:\n",
    "        Lista de (bbox_composto, imagem_segmentada, contornos_componentes)\n",
    "    \"\"\"\n",
    "    # 1. Encontra todos os contornos\n",
    "    contours, _ = cv2.findContours(\n",
    "        255 - image_array,\n",
    "        cv2.RETR_EXTERNAL,\n",
    "        cv2.CHAIN_APPROX_SIMPLE\n",
    "    )\n",
    "\n",
    "    # 2. Extrai bounding boxes e filtra ruído\n",
    "    boxes = []\n",
    "    for contour in contours:\n",
    "        x, y, w, h = cv2.boundingRect(contour)\n",
    "        area = w * h\n",
    "        if area >= min_component_area:\n",
    "            boxes.append({\n",
    "                'x': x, 'y': y, 'w': w, 'h': h,\n",
    "                'x_center': x + w // 2,\n",
    "                'x_end': x + w,\n",
    "                'contour': contour\n",
    "            })\n",
    "\n",
    "    # 3. Ordena boxes da esquerda para direita\n",
    "    boxes = sorted(boxes, key=lambda b: b['x'])\n",
    "\n",
    "    if not boxes:\n",
    "        return []\n",
    "\n",
    "    # 4. Agrupa contornos próximos em símbolos compostos\n",
    "    symbol_groups = []\n",
    "    current_group = [boxes[0]]\n",
    "\n",
    "    for i in range(1, len(boxes)):\n",
    "        prev_box = current_group[-1]\n",
    "        curr_box = boxes[i]\n",
    "\n",
    "        # Calcula gap horizontal entre o fim do anterior e início do atual\n",
    "        gap = curr_box['x'] - prev_box['x_end']\n",
    "\n",
    "        # Se gap é pequeno, agrupa no mesmo símbolo\n",
    "        if gap <= max_gap:\n",
    "            current_group.append(curr_box)\n",
    "        else:\n",
    "            # Gap grande: novo símbolo\n",
    "            symbol_groups.append(current_group)\n",
    "            current_group = [curr_box]\n",
    "\n",
    "    # Adiciona último grupo\n",
    "    symbol_groups.append(current_group)\n",
    "\n",
    "    # 5. Cria bounding box composto para cada grupo\n",
    "    segmented_symbols = []\n",
    "\n",
    "    for group in symbol_groups:\n",
    "        # Calcula bbox que engloba todos os componentes\n",
    "        x_min = min(box['x'] for box in group)\n",
    "        y_min = min(box['y'] for box in group)\n",
    "        x_max = max(box['x'] + box['w'] for box in group)\n",
    "        y_max = max(box['y'] + box['h'] for box in group)\n",
    "\n",
    "        # Adiciona padding\n",
    "        padding = 5\n",
    "        x1 = max(0, x_min - padding)\n",
    "        y1 = max(0, y_min - padding)\n",
    "        x2 = min(image_array.shape[1], x_max + padding)\n",
    "        y2 = min(image_array.shape[0], y_max + padding)\n",
    "\n",
    "        # Extrai região da imagem\n",
    "        symbol_img = image_array[y1:y2, x1:x2]\n",
    "\n",
    "        # Informações do símbolo composto\n",
    "        bbox = (x1, y1, x2 - x1, y2 - y1)\n",
    "        component_count = len(group)\n",
    "\n",
    "        segmented_symbols.append({\n",
    "            'bbox': bbox,\n",
    "            'image': symbol_img,\n",
    "            'components': component_count,\n",
    "            'component_boxes': [(b['x'], b['y'], b['w'], b['h']) for b in group]\n",
    "        })\n",
    "\n",
    "    return segmented_symbols\n",
    "\n",
    "\n",
    "def analyze_spacing(image_array: np.ndarray) -> dict:\n",
    "    \"\"\"\n",
    "    Analisa o espaçamento entre contornos para sugerir max_gap ideal.\n",
    "    \"\"\"\n",
    "    contours, _ = cv2.findContours(\n",
    "        255 - image_array,\n",
    "        cv2.RETR_EXTERNAL,\n",
    "        cv2.CHAIN_APPROX_SIMPLE\n",
    "    )\n",
    "\n",
    "    boxes = []\n",
    "    for contour in contours:\n",
    "        x, y, w, h = cv2.boundingRect(contour)\n",
    "        if w * h > 10:\n",
    "            boxes.append({'x': x, 'w': w, 'x_end': x + w})\n",
    "\n",
    "    boxes = sorted(boxes, key=lambda b: b['x'])\n",
    "\n",
    "    # Calcula gaps\n",
    "    gaps = []\n",
    "    for i in range(1, len(boxes)):\n",
    "        gap = boxes[i]['x'] - boxes[i-1]['x_end']\n",
    "        gaps.append(gap)\n",
    "\n",
    "    if not gaps:\n",
    "        return {'gaps': [], 'suggested_max_gap': 15}\n",
    "\n",
    "    gaps = np.array(gaps)\n",
    "\n",
    "    # Estatísticas\n",
    "    stats = {\n",
    "        'gaps': gaps.tolist(),\n",
    "        'mean': float(np.mean(gaps)),\n",
    "        'median': float(np.median(gaps)),\n",
    "        'std': float(np.std(gaps)),\n",
    "        'min': float(np.min(gaps)),\n",
    "        'max': float(np.max(gaps)),\n",
    "        'suggested_max_gap': int(np.percentile(gaps, 25))  # 25º percentil\n",
    "    }\n",
    "\n",
    "    return stats"
   ]
  },
  {
   "cell_type": "code",
   "execution_count": 11,
   "id": "86262582",
   "metadata": {},
   "outputs": [
    {
     "name": "stdout",
     "output_type": "stream",
     "text": [
      "Analisando espaçamento entre contornos...\n",
      "\n",
      "Estatísticas de gaps:\n",
      "  Média: 5.1 pixels\n",
      "  Mediana: 11.5 pixels\n",
      "  Desvio padrão: 12.5 pixels\n",
      "  Min/Max: -24 / 14 pixels\n",
      "  ✓ max_gap sugerido: 2 pixels\n"
     ]
    },
    {
     "data": {
      "image/png": "[encoded data removed]",
      "text/plain": [
       "<Figure size 1000x400 with 1 Axes>"
      ]
     },
     "metadata": {},
     "output_type": "display_data"
    }
   ],
   "source": [
    "# Célula para análise de espaçamento (execute primeiro para calibrar)\n",
    "print(\"Analisando espaçamento entre contornos...\")\n",
    "spacing_stats = analyze_spacing(processed_image)\n",
    "\n",
    "print(f\"\\nEstatísticas de gaps:\")\n",
    "print(f\"  Média: {spacing_stats['mean']:.1f} pixels\")\n",
    "print(f\"  Mediana: {spacing_stats['median']:.1f} pixels\")\n",
    "print(f\"  Desvio padrão: {spacing_stats['std']:.1f} pixels\")\n",
    "print(f\"  Min/Max: {spacing_stats['min']:.0f} / {spacing_stats['max']:.0f} pixels\")\n",
    "print(f\"  ✓ max_gap sugerido: {spacing_stats['suggested_max_gap']} pixels\")\n",
    "\n",
    "# Visualiza distribuição de gaps\n",
    "plt.figure(figsize=(10, 4))\n",
    "plt.hist(spacing_stats['gaps'], bins=20, edgecolor='black')\n",
    "plt.axvline(spacing_stats['suggested_max_gap'], color='r', linestyle='--',\n",
    "            label=f\"Sugestão: {spacing_stats['suggested_max_gap']}px\")\n",
    "plt.xlabel('Gap (pixels)')\n",
    "plt.ylabel('Frequência')\n",
    "plt.title('Distribuição de Espaçamento entre Contornos')\n",
    "plt.legend()\n",
    "plt.show()"
   ]
  },
  {
   "cell_type": "code",
   "execution_count": 12,
   "id": "b9454fcf",
   "metadata": {},
   "outputs": [
    {
     "name": "stdout",
     "output_type": "stream",
     "text": [
      "\n",
      "Segmentando símbolos compostos...\n",
      "✓ 7 símbolos detectados\n"
     ]
    },
    {
     "data": {
      "image/png": "[encoded data removed]",
      "text/plain": [
       "<Figure size 1500x200 with 7 Axes>"
      ]
     },
     "metadata": {},
     "output_type": "display_data"
    },
    {
     "name": "stdout",
     "output_type": "stream",
     "text": [
      "\n",
      "Componentes por símbolo:\n",
      "  Média: 1.3\n",
      "  Min/Max: 1 / 2\n"
     ]
    }
   ],
   "source": [
    "# Célula para segmentação com agrupamento\n",
    "print(\"\\nSegmentando símbolos compostos...\")\n",
    "\n",
    "# Use o max_gap sugerido ou ajuste manualmente\n",
    "MAX_GAP = spacing_stats['suggested_max_gap']  # ou um valor fixo como 15\n",
    "\n",
    "segmented_symbols = segment_characters_with_grouping(\n",
    "    processed_image,\n",
    "    max_gap=MAX_GAP,\n",
    "    min_component_area=10\n",
    ")\n",
    "\n",
    "print(f\"✓ {len(segmented_symbols)} símbolos detectados\")\n",
    "\n",
    "# Visualiza símbolos com informação de componentes\n",
    "if len(segmented_symbols) > 0:\n",
    "    n_symbols = len(segmented_symbols)\n",
    "    cols = min(10, n_symbols)\n",
    "    rows = (n_symbols + cols - 1) // cols\n",
    "\n",
    "    plt.figure(figsize=(15, 2 * rows))\n",
    "    for i, symbol in enumerate(segmented_symbols):\n",
    "        plt.subplot(rows, cols, i + 1)\n",
    "        plt.imshow(symbol['image'], cmap='gray')\n",
    "        plt.title(f\"#{i+1}\\n{symbol['components']} comp.\", fontsize=9)\n",
    "        plt.axis('off')\n",
    "    plt.suptitle(f'Símbolos Segmentados (max_gap={MAX_GAP}px)')\n",
    "    plt.tight_layout()\n",
    "    plt.show()\n",
    "\n",
    "    # Estatísticas\n",
    "    comp_counts = [s['components'] for s in segmented_symbols]\n",
    "    print(f\"\\nComponentes por símbolo:\")\n",
    "    print(f\"  Média: {np.mean(comp_counts):.1f}\")\n",
    "    print(f\"  Min/Max: {min(comp_counts)} / {max(comp_counts)}\")\n",
    "else:\n",
    "    print(\"⚠ Nenhum símbolo detectado!\")"
   ]
  },
  {
   "cell_type": "code",
   "execution_count": 14,
   "id": "ec798869",
   "metadata": {},
   "outputs": [],
   "source": [
    "def prepare_char_for_prediction(char_image: np.ndarray) -> np.ndarray:\n",
    "    \"\"\"\n",
    "    Prepara um caractere segmentado para predição:\n",
    "    - Redimensiona para 64x64\n",
    "    - Centraliza o caractere\n",
    "    - Adiciona dimensões do batch e canal\n",
    "    \"\"\"\n",
    "    # Cria canvas quadrado branco\n",
    "    size = max(char_image.shape)\n",
    "    canvas = np.ones((size, size), dtype=np.uint8) * 255\n",
    "\n",
    "    # Centraliza o caractere\n",
    "    y_offset = (size - char_image.shape[0]) // 2\n",
    "    x_offset = (size - char_image.shape[1]) // 2\n",
    "    canvas[y_offset:y_offset+char_image.shape[0],\n",
    "           x_offset:x_offset+char_image.shape[1]] = char_image\n",
    "\n",
    "    # Redimensiona para 64x64\n",
    "    resized = cv2.resize(canvas, (IMG_WIDTH, IMG_HEIGHT),\n",
    "                        interpolation=cv2.INTER_LANCZOS4)\n",
    "\n",
    "    # Adiciona dimensões: (1, 64, 64, 1)\n",
    "    # IMPORTANTE: NÃO normalizar aqui - o modelo tem Rescaling(1./255) interno\n",
    "    prepared = resized.reshape(1, IMG_HEIGHT, IMG_WIDTH, 1)\n",
    "\n",
    "    return prepared"
   ]
  },
  {
   "cell_type": "code",
   "execution_count": null,
   "id": "fba1326c",
   "metadata": {},
   "outputs": [
    {
     "name": "stdout",
     "output_type": "stream",
     "text": [
      "\n",
      "Realizando OCR dos símbolos compostos...\n"
     ]
    },
    {
     "name": "stderr",
     "output_type": "stream",
     "text": [
      "2025-10-18 15:00:27.828138: I external/local_xla/xla/service/service.cc:163] XLA service 0x734c34004cb0 initialized for platform CUDA (this does not guarantee that XLA will be used). Devices:\n",
      "2025-10-18 15:00:27.828168: I external/local_xla/xla/service/service.cc:171]   StreamExecutor device (0): NVIDIA GeForce RTX 4060 Laptop GPU, Compute Capability 8.9\n",
      "2025-10-18 15:00:27.854216: I tensorflow/compiler/mlir/tensorflow/utils/dump_mlir_util.cc:269] disabling MLIR crash reproducer, set env var `MLIR_CRASH_REPRODUCER_DIRECTORY` to enable.\n",
      "2025-10-18 15:00:27.916481: I external/local_xla/xla/stream_executor/cuda/cuda_dnn.cc:473] Loaded cuDNN version 91400\n",
      "I0000 00:00:1760810429.144621   67323 device_compiler.h:196] Compiled cluster using XLA!  This line is logged at most once for the lifetime of the process.\n"
     ]
    },
    {
     "name": "stdout",
     "output_type": "stream",
     "text": [
      "Símbolo 1: 't' (U+0074) - Confiança: 0.9739\n",
      "Símbolo 2: 'h' (U+0068) - Confiança: 1.0000\n",
      "Símbolo 3: 'z' (U+007A) - Confiança: 1.0000\n",
      "Símbolo 4: 'D' (U+0044) (2 componentes) - Confiança: 1.0000\n",
      "Símbolo 5: '4' (U+0034) - Confiança: 0.9827\n",
      "Símbolo 6: 'Ì' (U+00CC) - Confiança: 1.0000\n",
      "Símbolo 7: 'k' (U+006B) (2 componentes) - Confiança: 0.8258\n",
      "\n",
      "============================================================\n",
      "TEXTO RECONHECIDO: thzD4Ìk\n",
      "============================================================\n"
     ]
    }
   ],
   "source": [
    "# Célula para OCR com os símbolos agrupados\n",
    "print(\"\\nRealizando OCR dos símbolos compostos...\")\n",
    "results = []\n",
    "\n",
    "for i, symbol_data in enumerate(segmented_symbols):\n",
    "    bbox = symbol_data['bbox']\n",
    "    char_img = symbol_data['image']\n",
    "\n",
    "    # Prepara para predição\n",
    "    input_array = prepare_char_for_prediction(char_img)\n",
    "\n",
    "    # Predição\n",
    "    predictions = model.predict(input_array, verbose=0)\n",
    "    predicted_idx = np.argmax(predictions[0])\n",
    "    confidence = predictions[0][predicted_idx]\n",
    "\n",
    "    # Converte para caractere\n",
    "    unicode_class = class_names[predicted_idx]\n",
    "    character = unicode_to_char(unicode_class)\n",
    "\n",
    "    results.append({\n",
    "        'index': i,\n",
    "        'bbox': bbox,\n",
    "        'unicode': unicode_class,\n",
    "        'character': character,\n",
    "        'confidence': confidence,\n",
    "        'components': symbol_data['components'],\n",
    "        'component_boxes': symbol_data['component_boxes'],\n",
    "        'image': char_img\n",
    "    })\n",
    "\n",
    "    comp_info = f\" ({symbol_data['components']} componentes)\" if symbol_data['components'] > 1 else \"\"\n",
    "    print(f\"Símbolo {i+1}: '{character}' ({unicode_class}){comp_info} - Confiança: {confidence:.4f}\")\n",
    "\n",
    "recognized_text = ''.join([r['character'] for r in results])\n",
    "print(f\"\\n{'='*60}\")\n",
    "print(f\"TEXTO RECONHECIDO: {recognized_text}\")\n",
    "print(f\"{'='*60}\")\n"
   ]
  },
  {
   "cell_type": "markdown",
   "id": "e30281e4",
   "metadata": {},
   "source": [
    "#### Texto a ser reconhecido na imagem:\n",
    "```\n",
    "- Palavra \"Rosa\" em ELiS\n",
    "- U+0074, U+0068, U+007A, U+0044, U+00CC, U+00B0 em Unicode\n",
    "- \"thzDÌm\" em ASCII\n",
    "```"
   ]
  }
 ],
 "metadata": {
  "kernelspec": {
   "display_name": "tf-gpu",
   "language": "python",
   "name": "python3"
  },
  "language_info": {
   "codemirror_mode": {
    "name": "ipython",
    "version": 3
   },
   "file_extension": ".py",
   "mimetype": "text/x-python",
   "name": "python",
   "nbconvert_exporter": "python",
   "pygments_lexer": "ipython3",
   "version": "3.11.14"
  }
 },
 "nbformat": 4,
 "nbformat_minor": 5
}
