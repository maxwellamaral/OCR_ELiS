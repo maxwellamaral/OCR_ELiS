{
 "cells": [
  {
   "cell_type": "code",
   "execution_count": 1,
   "id": "24cf14f7",
   "metadata": {},
   "outputs": [
    {
     "name": "stderr",
     "output_type": "stream",
     "text": [
      "2025-10-18 14:21:53.486982: I tensorflow/core/util/port.cc:153] oneDNN custom operations are on. You may see slightly different numerical results due to floating-point round-off errors from different computation orders. To turn them off, set the environment variable `TF_ENABLE_ONEDNN_OPTS=0`.\n",
      "2025-10-18 14:21:53.520626: I tensorflow/core/platform/cpu_feature_guard.cc:210] This TensorFlow binary is optimized to use available CPU instructions in performance-critical operations.\n",
      "To enable the following instructions: AVX2 AVX_VNNI FMA, in other operations, rebuild TensorFlow with the appropriate compiler flags.\n",
      "2025-10-18 14:21:54.720690: I tensorflow/core/util/port.cc:153] oneDNN custom operations are on. You may see slightly different numerical results due to floating-point round-off errors from different computation orders. To turn them off, set the environment variable `TF_ENABLE_ONEDNN_OPTS=0`.\n"
     ]
    }
   ],
   "source": [
    "import tensorflow as tf\n",
    "import cv2\n",
    "import numpy as np\n",
    "import os\n",
    "from pathlib import Path"
   ]
  },
  {
   "cell_type": "code",
   "execution_count": 2,
   "id": "b2e666d0",
   "metadata": {},
   "outputs": [],
   "source": [
    "def find_project_root(markers=(\"pyproject.toml\", \".git\")) -> Path:\n",
    "    \"\"\"\n",
    "    Descobre a raiz do projeto subindo diretórios até encontrar um marcador.\n",
    "\n",
    "    Parâmetros:\n",
    "        markers: nomes de arquivos/pastas que indicam a raiz (ex.: \"pyproject.toml\", \".git\").\n",
    "\n",
    "    Retorna:\n",
    "        pathlib.Path apontando para a raiz do projeto, ou o diretório atual como fallback.\n",
    "    \"\"\"\n",
    "    p = Path.cwd().resolve()\n",
    "    for parent in [p, *p.parents]:\n",
    "        if any((parent / m).exists() for m in markers):\n",
    "            return parent\n",
    "    return p\n",
    "\n",
    "ROOT = find_project_root()"
   ]
  },
  {
   "cell_type": "code",
   "execution_count": 3,
   "id": "d200bd36",
   "metadata": {},
   "outputs": [],
   "source": [
    "# --- Configurações ---\n",
    "DATA_DIR = ROOT / \"data\"\n",
    "MODEL_PATH = DATA_DIR / \"processed\" / \"modelo_ocr_simbolos.keras\"\n",
    "IMAGE_PATH = DATA_DIR / \"raw\" / \"ocr_test_image.png\"\n",
    "CLASS_NAMES_PATH = DATA_DIR / \"raw\" / \"class_names.json\"\n",
    "\n",
    "\n",
    "IMG_HEIGHT = 64\n",
    "IMG_WIDTH = 64"
   ]
  },
  {
   "cell_type": "code",
   "execution_count": 4,
   "id": "48aeb85b",
   "metadata": {},
   "outputs": [],
   "source": [
    "# Mapeamento de índice para classe. Deve corresponder à ordem do treinamento.\n",
    "import json\n",
    "\n",
    "with open(CLASS_NAMES_PATH, 'r', encoding='utf-8') as f:\n",
    "    loaded_classes = json.load(f)\n",
    "\n",
    "CLASS_SYMBOLS = loaded_classes\n"
   ]
  },
  {
   "cell_type": "code",
   "execution_count": 5,
   "id": "d2b4da37",
   "metadata": {},
   "outputs": [],
   "source": [
    "def preprocess_for_prediction(image_crop):\n",
    "    \"\"\"Prepara um recorte de imagem para o modelo.\"\"\"\n",
    "    # Redimensiona para o tamanho esperado pelo modelo\n",
    "    resized_img = cv2.resize(image_crop, (IMG_WIDTH, IMG_HEIGHT))\n",
    "\n",
    "    # Adiciona a dimensão do batch e do canal (o modelo espera 4D: batch, H, W, canal)\n",
    "    img_array = np.expand_dims(resized_img, axis=-1) # Adiciona canal\n",
    "    img_array = np.expand_dims(img_array, axis=0)    # Adiciona batch\n",
    "\n",
    "    # Normaliza os pixels (se o modelo foi treinado com Rescaling, não precisa dividir por 255.0 aqui)\n",
    "    # A camada Rescaling(1./255) no modelo já faz isso.\n",
    "    return img_array"
   ]
  },
  {
   "cell_type": "code",
   "execution_count": 6,
   "id": "de297003",
   "metadata": {},
   "outputs": [],
   "source": [
    "def show_image(cv2, image, title=\"Image\"):\n",
    "    \"\"\"Exibe uma imagem usando OpenCV.\"\"\"\n",
    "    cv2.imshow('Imagem de Entrada', image)\n",
    "    cv2.waitKey(0)\n",
    "    cv2.destroyAllWindows()"
   ]
  },
  {
   "cell_type": "code",
   "execution_count": 7,
   "id": "45447edc",
   "metadata": {},
   "outputs": [],
   "source": [
    "if not os.path.exists(MODEL_PATH):\n",
    "    print(f\"ERRO: Modelo '{MODEL_PATH}' não encontrado. Treine o modelo primeiro.\")\n",
    "    # return\n",
    "if not os.path.exists(IMAGE_PATH):\n",
    "    print(f\"ERRO: Imagem de teste '{IMAGE_PATH}' não encontrada. Execute 'gerar_imagem_teste.py' primeiro.\")\n",
    "    # return"
   ]
  },
  {
   "cell_type": "code",
   "execution_count": 8,
   "id": "378076b1",
   "metadata": {},
   "outputs": [
    {
     "name": "stdout",
     "output_type": "stream",
     "text": [
      "Carregando modelo...\n"
     ]
    },
    {
     "name": "stderr",
     "output_type": "stream",
     "text": [
      "WARNING: All log messages before absl::InitializeLog() is called are written to STDERR\n",
      "I0000 00:00:1760808115.454055   57367 gpu_device.cc:2020] Created device /job:localhost/replica:0/task:0/device:GPU:0 with 5561 MB memory:  -> device: 0, name: NVIDIA GeForce RTX 4060 Laptop GPU, pci bus id: 0000:01:00.0, compute capability: 8.9\n"
     ]
    }
   ],
   "source": [
    "# 1. Carregar o modelo treinado\n",
    "print(\"Carregando modelo...\")\n",
    "model = tf.keras.models.load_model(MODEL_PATH)\n"
   ]
  },
  {
   "cell_type": "code",
   "execution_count": 9,
   "id": "3890cafc",
   "metadata": {},
   "outputs": [],
   "source": [
    "\n",
    "# 2. Carregar e pré-processar a imagem de entrada\n",
    "image = cv2.imread(IMAGE_PATH)\n",
    "gray = cv2.cvtColor(image, cv2.COLOR_BGR2GRAY)\n"
   ]
  },
  {
   "cell_type": "code",
   "execution_count": 12,
   "id": "81da0273",
   "metadata": {},
   "outputs": [],
   "source": [
    "\n",
    "# Binarização da imagem (inversa, para ter símbolos brancos em fundo preto)\n",
    "_, thresh = cv2.threshold(gray, 128, 255, cv2.THRESH_BINARY_INV)\n",
    "\n",
    "# (Opcional) Dilatar para conectar partes quebradas dos símbolos\n",
    "kernel = np.ones((2,2), np.uint8)\n",
    "thresh = cv2.dilate(thresh, kernel, iterations=1)\n",
    "\n",
    "# Exibir a imagem binarizada (opcional)\n",
    "show_image(cv2, thresh, title=\"Imagem Binarizada\")"
   ]
  },
  {
   "cell_type": "code",
   "execution_count": null,
   "id": "c002e54d",
   "metadata": {},
   "outputs": [
    {
     "ename": "error",
     "evalue": "OpenCV(4.12.0) :-1: error: (-5:Bad argument) in function 'findContours'\n> Overload resolution failed:\n>  - findContours() missing required argument 'mode' (pos 2)\n>  - findContours() missing required argument 'mode' (pos 2)\n",
     "output_type": "error",
     "traceback": [
      "\u001b[31m---------------------------------------------------------------------------\u001b[39m",
      "\u001b[31merror\u001b[39m                                     Traceback (most recent call last)",
      "\u001b[36mCell\u001b[39m\u001b[36m \u001b[39m\u001b[32mIn[13]\u001b[39m\u001b[32m, line 3\u001b[39m\n\u001b[32m      1\u001b[39m \u001b[38;5;66;03m# 3. Encontrar contornos\u001b[39;00m\n\u001b[32m      2\u001b[39m \u001b[38;5;66;03m# contours, _ = cv2.findContours(thresh, cv2.RETR_EXTERNAL, cv2.CHAIN_APPROX_SIMPLE)\u001b[39;00m\n\u001b[32m----> \u001b[39m\u001b[32m3\u001b[39m contours, _ = \u001b[43mcv2\u001b[49m\u001b[43m.\u001b[49m\u001b[43mfindContours\u001b[49m\u001b[43m(\u001b[49m\u001b[43mthresh\u001b[49m\u001b[43m)\u001b[49m\n\u001b[32m      6\u001b[39m bounding_boxes = []\n\u001b[32m      7\u001b[39m \u001b[38;5;28;01mfor\u001b[39;00m contour \u001b[38;5;129;01min\u001b[39;00m contours:\n\u001b[32m      8\u001b[39m     \u001b[38;5;66;03m# Pega o retângulo envolvente de cada contorno\u001b[39;00m\n",
      "\u001b[31merror\u001b[39m: OpenCV(4.12.0) :-1: error: (-5:Bad argument) in function 'findContours'\n> Overload resolution failed:\n>  - findContours() missing required argument 'mode' (pos 2)\n>  - findContours() missing required argument 'mode' (pos 2)\n"
     ]
    }
   ],
   "source": [
    "\n",
    "# 3. Encontrar contornos\n",
    "contours, _ = cv2.findContours(thresh, cv2.RETR_EXTERNAL, cv2.CHAIN_APPROX_SIMPLE)\n",
    "\n",
    "\n",
    "bounding_boxes = []\n",
    "for contour in contours:\n",
    "    # Pega o retângulo envolvente de cada contorno\n",
    "    x, y, w, h = cv2.boundingRect(contour)\n",
    "\n",
    "    # Filtra contornos muito pequenos (ruído)\n",
    "    if w > 10 and h > 10:\n",
    "        bounding_boxes.append((x, y, w, h))\n",
    "\n",
    "# Exibe os contornos encontrados (opcional)\n",
    "# debug_image = image.copy()\n",
    "# for (x, y, w, h) in bounding_boxes:\n",
    "#     cv2.rectangle(debug_image, (x, y), (x + w, y + h), (0, 255, 0), 2)\n",
    "# show_image(cv2, debug_image, title=\"Contornos Detectados\")"
   ]
  },
  {
   "cell_type": "code",
   "execution_count": 21,
   "id": "fbcef1eb",
   "metadata": {},
   "outputs": [
    {
     "name": "stdout",
     "output_type": "stream",
     "text": [
      "\n",
      "Sequência Reconhecida: U+00A2 U+007A U+0034 U+0034 U+00CC \n"
     ]
    }
   ],
   "source": [
    "# 4. Ordenar os retângulos da esquerda para a direita\n",
    "bounding_boxes.sort(key=lambda b: b[0])\n",
    "\n",
    "recognized_sequence = \"\"\n",
    "\n",
    "\n",
    "# 5. Iterar, recortar e prever\n",
    "for x, y, w, h in bounding_boxes:\n",
    "    # Recorta o símbolo da imagem em escala de cinza original\n",
    "    # Adiciona um padding para garantir que o símbolo inteiro seja capturado\n",
    "    padding = 0\n",
    "    symbol_crop = gray[y - padding : y + h + padding, x - padding : x + w + padding]\n",
    "\n",
    "    # Exibe a imagem recortada (opcional)\n",
    "    show_image(cv2, symbol_crop, title=\"Símbolo Recortado\")\n",
    "\n",
    "\n",
    "    # Prepara a imagem para o modelo\n",
    "    # processed_crop = preprocess_for_prediction(symbol_crop)\n",
    "\n",
    "    resized_img = cv2.resize(symbol_crop, (IMG_WIDTH, IMG_HEIGHT))\n",
    "\n",
    "    # exibe a imagem recortada (opcional)\n",
    "    # show_image(cv2, resized_img, title=\"Símbolo Recortado\")\n",
    "\n",
    "    # Adiciona a dimensão do batch e do canal (o modelo espera 4D: batch, H, W, canal)\n",
    "    img_array = np.expand_dims(resized_img, axis=-1)  # Adiciona canal\n",
    "    img_array = np.expand_dims(img_array, axis=0)  # Adiciona batch\n",
    "\n",
    "    # Realiza a predição\n",
    "    prediction = model.predict(img_array, verbose=0)\n",
    "\n",
    "    # Obtém o símbolo com a maior probabilidade\n",
    "    predicted_index = np.argmax(prediction)\n",
    "    predicted_symbol = CLASS_SYMBOLS[predicted_index]\n",
    "\n",
    "    recognized_sequence += predicted_symbol + ' '\n",
    "\n",
    "    # Desenha o retângulo e o resultado na imagem original para visualização\n",
    "    cv2.rectangle(image, (x, y), (x + w, y + h), (0, 255, 0), 2)\n",
    "    # cv2.putText(image, predicted_symbol, (x, y - 10), cv2.FONT_HERSHEY_SIMPLEX, 0.2, (0, 255, 0), 2)\n",
    "\n",
    "print(f\"\\nSequência Reconhecida: {recognized_sequence}\")\n",
    "\n",
    "\n",
    "# Palavra \"Rosa\" em ELiS\n",
    "# U+0074, U+0068, U+007A, U+0044, U+00CC, U+00B0 em Unicode\n",
    "# \"thzDÌm\" em ASCII"
   ]
  },
  {
   "cell_type": "code",
   "execution_count": 22,
   "id": "2cc55f2e",
   "metadata": {},
   "outputs": [],
   "source": [
    "\n",
    "# 6. Exibir o resultado visual\n",
    "cv2.imshow('Reconhecimento de Sequencia', image)\n",
    "cv2.waitKey(0) # Espera uma tecla ser pressionada\n",
    "cv2.destroyAllWindows()"
   ]
  }
 ],
 "metadata": {
  "kernelspec": {
   "display_name": "tf-gpu",
   "language": "python",
   "name": "python3"
  },
  "language_info": {
   "codemirror_mode": {
    "name": "ipython",
    "version": 3
   },
   "file_extension": ".py",
   "mimetype": "text/x-python",
   "name": "python",
   "nbconvert_exporter": "python",
   "pygments_lexer": "ipython3",
   "version": "3.11.14"
  }
 },
 "nbformat": 4,
 "nbformat_minor": 5
}
