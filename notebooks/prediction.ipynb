{
 "cells": [
  {
   "cell_type": "markdown",
   "id": "doc-intro",
   "metadata": {},
   "source": [
    "# Previsão com o Modelo de OCR\\n\\n",
    "Este notebook demonstra como carregar o modelo de CNN treinado e utilizá-lo para prever a classe de uma imagem de caractere. As etapas incluem:\\n\\n",
    "- **Carregamento do Modelo e Classes**: Carrega o arquivo do modelo `.keras` e o mapeamento de classes `class_names.json`.\\n",
    "- **Funções Auxiliares**: Define funções para converter entre o formato `U+XXXX` e índices de classe.\\n",
    "- **Seleção e Preparação da Imagem**: Escolhe uma imagem do conjunto de teste, a carrega e a pré-processa para que seja compatível com a entrada do modelo.\\n",
    "- **Execução da Previsão**: Alimenta a imagem no modelo e obtém as probabilidades de cada classe.\\n",
    "- **Análise dos Resultados**: Exibe a classe prevista, a confiança da previsão e as 5 classes mais prováveis."
   ]
  },
  {
   "cell_type": "markdown",
   "id": "doc-imports-pred",
   "metadata": {},
   "source": [
    "## Importação de Bibliotecas\\n\\n",
    "Importa as bibliotecas necessárias, incluindo TensorFlow para carregar o modelo e realizar previsões, Matplotlib para visualização e `os` e `pathlib` para manipulação de arquivos."
   ]
  },
  {
   "cell_type": "code",
   "execution_count": 63,
   "id": "0c83daa8",
   "metadata": {},
   "outputs": [],
   "source": [
    "import tensorflow as tf\\n",
    "from tensorflow.keras import layers, models\\n",
    "import matplotlib.pyplot as plt\\n",
    "import numpy as np\\n",
    "import os\\n",
    "from pathlib import Path"
   ]
  },
  {
   "cell_type": "markdown",
   "id": "doc-find-root-pred",
   "metadata": {},
   "source": [
    "## Localização da Raiz do Projeto\\n\\n",
    "A função `find_project_root` localiza o diretório raiz para resolver os caminhos dos arquivos de modelo, classes e dataset de forma robusta."
   ]
  },
  {
   "cell_type": "code",
   "execution_count": 64,
   "id": "0cbd87b8",
   "metadata": {},
   "outputs": [],
   "source": [
    "\\n",
    "def find_project_root(markers=(\\"pyproject.toml\\", \\".git\\")) -> Path:\\n",
    "    '''\\n",
    "    Descobre a raiz do projeto subindo diretórios até encontrar um marcador.\\n",
    "\\n",
    "    Parâmetros:\\n",
    "        markers (tuple): Nomes de arquivos/pastas que indicam a raiz.\\n",
    "\\n",
    "    Retorna:\\n",
    "        pathlib.Path: Aponta para a raiz do projeto.\\n",
    "    '''\\n",
    "    p = Path.cwd().resolve()\\n",
    "    for parent in [p, *p.parents]:\\n",
    "        if any((parent / m).exists() for m in markers):\\n",
    "            return parent\\n",
    "    return p\\n",
    "\\n",
    "ROOT = find_project_root()"
   ]
  },
  {
   "cell_type": "markdown",
   "id": "doc-config-pred",
   "metadata": {},
   "source": [
    "## Configuração de Caminhos\\n\\n",
    "Define os caminhos para o modelo salvo, o arquivo de nomes de classes e o diretório do dataset."
   ]
  },
  {
   "cell_type": "code",
   "execution_count": 65,
   "id": "71548ceb",
   "metadata": {},
   "outputs": [],
   "source": [
    "# MODEL_SAVE_PATH = 'modelo_ocr_simbolos.keras'\\n",
    "DATA_DIR = ROOT / \\"data\\"\\n",
    "MODEL_SAVE_PATH = DATA_DIR / \\"processed\\" / \\"modelo_ocr_simbolos.keras\\"\\n",
    "CLASS_NAMES_PATH = DATA_DIR / \\"raw\\" / \\"class_names.json\\"\\n",
    "DATASET_DIR = DATA_DIR / \\"raw\\" / \\"dataset\\"\\n"
   ]
  },
  {
   "cell_type": "markdown",
   "id": "doc-verify-classes",
   "metadata": {},
   "source": [
    "## Verificação de Consistência das Classes\\n\\n",
    "Esta célula de verificação garante que a ordem das classes no `class_names.json` corresponde à ordem alfabética dos diretórios de treinamento, que é a ordem usada pelo TensorFlow. Isso é essencial para que as previsões do modelo sejam mapeadas para os rótulos corretos."
   ]
  },
  {
   "cell_type": "code",
   "execution_count": 66,
   "id": "028a7a0c",
   "metadata": {},
   "outputs": [],
   "source": [
    "# Verificar se class_names.json está na ordem correta (alfabética)\\n",
    "import json\\n",
    "\\n",
    "with open(CLASS_NAMES_PATH, 'r', encoding='utf-8') as f:\\n",
    "    loaded_classes = json.load(f)\\n",
    "\\n",
    "# class_names do dataset de treino (ordem usada pelo modelo)\\n",
    "train_dir = os.path.join(DATASET_DIR, 'train')\\n",
    "train_classes_sorted = sorted(os.listdir(train_dir))\\n",
    "\\n",
    "print(\\"Verificando consistência de class_names...\\")\\n",
    "if loaded_classes == train_classes_sorted:\\n",
    "    print(\\"✓ class_names.json está correto e consistente com o treinamento\\")\\n",
    "else:\\n",
    "    print(\\"✗ ERRO: class_names.json difere da ordem do treinamento!\\")\\n",
    "    print(f\\"  Esperado (train): {train_classes_sorted[:5]}...\\")\\n",
    "    print(f\\"  Carregado (json): {loaded_classes[:5]}...\\")\\n",
    "    print(\\"\\nRECOMENDAÇÃO: Regere class_names.json com:\\")\\n",
    "    print(\\"  import json\\")\\n",
    "    print(\\"  with open(CLASS_NAMES_PATH, 'w', encoding='utf-8') as f:\\")\\n",
    "    print(\\"      json.dump(sorted(os.listdir('dataset/train')), f, ensure_ascii=False)\\")"
   ]
  },
  {
   "cell_type": "markdown",
   "id": "doc-load-classes",
   "metadata": {},
   "source": [
    "## Carregamento dos Nomes das Classes\\n\\n",
    "Carrega os nomes das classes do arquivo JSON para uma lista, que será usada para mapear os índices de saída do modelo para os rótulos de caractere correspondentes."
   ]
  },
  {
   "cell_type": "code",
   "execution_count": 67,
   "id": "32f4a281",
   "metadata": {},
   "outputs": [],
   "source": [
    "# Carrega os nomes das classes a partir do arquivo 'class_names.json'\\n",
    "import json\\n",
    "with open(CLASS_NAMES_PATH, 'r', encoding='utf-8') as f:\\n",
    "    class_names = json.load(f)\\n",
    "print(f\"Nomes das classes carregados: {len(class_names)} classes.\")\\n",
    "\\n",
    "for idx, name in enumerate(class_names):\\n",
    "    print(idx, name)"
   ]
  },
  {
   "cell_type": "markdown",
   "id": "doc-uplus-utils",
   "metadata": {},
   "source": [
    "## Funções Utilitárias para Codepoints\\n\\n",
    "Conjunto de funções para conversão entre a notação `U+XXXX` e valores inteiros de codepoint ou índices de lista. Isso facilita a seleção de imagens de teste e a interpretação dos resultados."
   ]
  },
  {
   "cell_type": "code",
   "execution_count": 72,
   "id": "29203edf",
   "metadata": {},
   "outputs": [],
   "source": [
    "import re\\n",
    "\\n",
    "def parse_uplus(s: str) -> int:\\n",
    "    '''Converte uma string no formato 'U+XXXX' para um inteiro.\\n",
    "\\n",
    "    Args:\\n",
    "        s (str): A string a ser convertida (ex: 'U+0044').\\n",
    "\\n",
    "    Returns:\\n",
    "        int: O valor inteiro do codepoint.\\n",
    "    '''\\n",
    "    m = re.fullmatch(r'(?:U\\\\+|0x)?([0-9A-Fa-f]+)', s.strip())\\n",
    "    if not m:\\n",
    "        raise ValueError(f\\"Formato inválido: {s}\\")\\n",
    "    return int(m.group(1), 16)\\n",
    "\\n",
    "def uplus_to_hex(s: str) -> str:\\n",
    "    '''Converte uma string 'U+XXXX' para sua representação hexadecimal '0xXXXX'.\\n",
    "\\n",
    "    Args:\\n",
    "        s (str): A string de entrada.\\n",
    "\\n",
    "    Returns:\\n",
    "        str: A string formatada em hexadecimal.\\n",
    "    '''\\n",
    "    cp = parse_uplus(s)\\n",
    "    return f\\"0x{cp:04X}\\"\\n",
    "\\n",
    "def uplus_to_index_int(s: str, base: int = 0x0020) -> int:\\n",
    "    '''Converte 'U+XXXX' para um índice de lista, subtraindo uma base.\\n",
    "\\n",
    "    Args:\\n",
    "        s (str): A string de entrada.\\n",
    "        base (int): O valor base a ser subtraído.\\n",
    "\\n",
    "    Returns:\\n",
    "        int: O índice resultante.\\n",
    "    '''\\n",
    "    cp = parse_uplus(s)\\n",
    "    idx = cp - base\\n",
    "    if idx < 0:\\n",
    "        raise ValueError(f\\"Índice negativo: codepoint 0x{cp:04X} antes da base 0x{base:04X}\\")\\n",
    "    return idx\\n",
    "\\n",
    "def uplus_to_index_hex(s: str, base: int = 0x0020) -> str:\\n",
    "    '''Converte 'U+XXXX' para um índice hexadecimal, subtraindo uma base.\\n",
    "\\n",
    "    Args:\\n",
    "        s (str): A string de entrada.\\n",
    "        base (int): O valor base a ser subtraído.\\n",
    "\\n",
    "    Returns:\\n",
    "        str: O índice hexadecimal resultante.\\n",
    "    '''\\n",
    "    idx = uplus_to_index_int(s, base=base)\\n",
    "    return f\\"0x{idx:04X}\\"\\n",
    "\\n",
    "# Exemplos:\\n",
    "# uplus_to_hex('U+0044')               -> '0x0044'\\n",
    "# uplus_to_index_hex('U+0044', 0x0020) -> '0x0024'  (inclui espaço)\\n",
    "# uplus_to_index_hex('U+0044', 0x0021) -> '0x0023'  (ignora espaço, corresponde ao seu exemplo)"
   ]
  },
  {
   "cell_type": "markdown",
   "id": "doc-test-image-config",
   "metadata": {},
   "source": [
    "## Configuração da Imagem de Teste\\n\\n",
    "Define qual caractere (`SYMBOL_UNICODE`) será usado para o teste de previsão e calcula seu índice correspondente na lista de classes."
   ]
  },
  {
   "cell_type": "code",
   "execution_count": null,
   "id": "6a076080",
   "metadata": {},
   "outputs": [],
   "source": [
    "\\n",
    "# DATASET_DIR = 'dataset'\\n",
    "IMG_HEIGHT = 64\\n",
    "IMG_WIDTH = 64\\n",
    "\\n",
    "SYMBOL_UNICODE = 'U+0044'  # Exemplo: 'U+0044' para 'D'\\n",
    "\\n",
    "SYMBOL_INDEX = uplus_to_index_int(SYMBOL_UNICODE, base=0x0021)"
   ]
  },
  {
   "cell_type": "markdown",
   "id": "doc-load-model-and-test-images",
   "metadata": {},
   "source": [
    "## Carregamento do Modelo e Visualização de Amostras\\n\\n",
    "Carrega o modelo treinado do arquivo `.keras`. Em seguida, exibe uma grade de imagens de amostra da classe de teste selecionada para fornecer um contexto visual do que está sendo previsto."
   ]
  },
  {
   "cell_type": "code",
   "execution_count": 74,
   "id": "5197d7a2",
   "metadata": {},
   "outputs": [],
   "source": [
    "'''Teste rápido de previsão'''\\n",
    "\\n",
    "# Carrega o modelo salvo\\n",
    "model = tf.keras.models.load_model(MODEL_SAVE_PATH)\\n",
    "print(\\"\\nModelo carregado para teste de previsão.\\")\\n",
    "\\n",
    "# Carrega uma imagem de teste\\n",
    "test_image_path = os.path.join(DATASET_DIR, 'test', class_names[SYMBOL_INDEX])\\n",
    "\\n",
    "# Exibe algumas imagens de teste\\n",
    "plt.figure(figsize=(10, 10))\\n",
    "for i in range(9):\\n",
    "    ax = plt.subplot(3, 3, i + 1)\\n",
    "    img_path = os.path.join(test_image_path, os.listdir(test_image_path)[i])\\n",
    "    img = tf.keras.preprocessing.image.load_img(img_path, color_mode='grayscale', target_size=(IMG_HEIGHT, IMG_WIDTH))\\n",
    "    plt.imshow(img, cmap='gray')\\n",
    "    plt.axis(\\"off\\")\\n",
    "plt.show()\\n"
   ]
  },
  {
   "cell_type": "markdown",
   "id": "doc-select-and-display-sample",
   "metadata": {},
   "source": [
    "## Seleção e Exibição de uma Amostra Específica\\n\\n",
    "Seleciona uma única imagem do conjunto de teste e a exibe, confirmando visualmente a imagem que será usada para a previsão."
   ]
  },
  {
   "cell_type": "code",
   "execution_count": 75,
   "id": "3e98c401",
   "metadata": {},
   "outputs": [],
   "source": [
    "# Selecionar e exibir imagem de teste\\n",
    "sample_idx = 20\\n",
    "sample_image_path = os.path.join(test_image_path, os.listdir(test_image_path)[sample_idx])\\n",
    "sample_image = tf.keras.preprocessing.image.load_img(\\n",
    "    sample_image_path,\\n",
    "    target_size=(IMG_HEIGHT, IMG_WIDTH),\\n",
    "    color_mode='grayscale'\\n",
    ")\\n",
    "plt.imshow(sample_image, cmap='gray')\\n",
    "plt.title(f\\"Classe real: {class_names[SYMBOL_INDEX]}\\")\\n",
    "plt.axis('off')\\n",
    "plt.show()\\n"
   ]
  },
  {
   "cell_type": "markdown",
   "id": "doc-predict-and-analyze",
   "metadata": {},
   "source": [
    "## Preparação, Previsão e Análise do Resultado\\n\\n",
    "A imagem de amostra é convertida em um array NumPy e formatada para corresponder ao formato de entrada do modelo (incluindo a dimensão do lote). O modelo então faz a previsão. Os resultados são analisados para encontrar a classe com a maior probabilidade, que é então mapeada de volta para o rótulo `U+XXXX` e exibida junto com a confiança e as 5 principais previsões."
   ]
  },
  {
   "cell_type": "code",
   "execution_count": 76,
   "id": "4837b200",
   "metadata": {},
   "outputs": [],
   "source": [
    "# CORREÇÃO: Preparar imagem para previsão (SEM normalização manual)\\n",
    "input_arr = tf.keras.preprocessing.image.img_to_array(sample_image)\\n",
    "# garantir shape correto (H, W, 1)\\n",
    "if input_arr.ndim == 2:\\n",
    "    input_arr = np.expand_dims(input_arr, axis=-1)\\n",
    "# adicionar dimensão do batch: (1, H, W, 1)\\n",
    "input_arr = np.expand_dims(input_arr, axis=0)\\n",
    "\\n",
    "# IMPORTANTE: NÃO dividir por 255 aqui — o modelo já tem Rescaling(1./255) interno\\n",
    "# Se você dividir aqui, os valores ficarão 0..1/255 (muito pequenos)\\n",
    "\\n",
    "predictions = model.predict(input_arr)\\n",
    "predicted_idx = np.argmax(predictions)\\n",
    "predicted_class = class_names[predicted_idx]\\n",
    "confidence = predictions[0][predicted_idx]\\n",
    "\\n",
    "print(f\\"Classe real (pasta): {class_names[43]}\\")\\n",
    "print(f\\"Classe prevista: {predicted_class}\\")\\n",
    "print(f\\"Confiança: {confidence:.4f}\\")\\n",
    "print(f\\"\\nTop-5 previsões:\\")\\n",
    "top5_idx = np.argsort(predictions[0])[-5:][::-1]\\n",
    "for i, idx in enumerate(top5_idx):\\n",
    "    print(f\\"  {i+1}. {class_names[idx]}: {predictions[0][idx]:.4f}\\")\\n"
   ]
  }
 ],
 "metadata": {
  "kernelspec": {
   "display_name": "tf-gpu",
   "language": "python",
   "name": "python3"
  },
  "language_info": {
   "codemirror_mode": {
    "name": "ipython",
    "version": 3
   },
   "file_extension": ".py",
   "mimetype": "text/x-python",
   "name": "python",
   "nbconvert_exporter": "python",
   "pygments_lexer": "ipython3",
   "version": "3.11.14"
  }
 },
 "nbformat": 4,
 "nbformat_minor": 5
}