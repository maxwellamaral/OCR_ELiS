{
 "cells": [
  {
   "cell_type": "code",
   "execution_count": 15,
   "id": "43f1ec66",
   "metadata": {},
   "outputs": [],
   "source": [
    "from PIL import Image, ImageFont, ImageDraw\n",
    "from pathlib import Path"
   ]
  },
  {
   "cell_type": "code",
   "execution_count": 16,
   "id": "46028835",
   "metadata": {},
   "outputs": [],
   "source": [
    "def find_project_root(markers=(\"pyproject.toml\", \".git\")) -> Path:\n",
    "    \"\"\"\n",
    "    Descobre a raiz do projeto subindo diretórios até encontrar um marcador.\n",
    "\n",
    "    Parâmetros:\n",
    "        markers: nomes de arquivos/pastas que indicam a raiz (ex.: \"pyproject.toml\", \".git\").\n",
    "\n",
    "    Retorna:\n",
    "        pathlib.Path apontando para a raiz do projeto, ou o diretório atual como fallback.\n",
    "    \"\"\"\n",
    "    p = Path.cwd().resolve()\n",
    "    for parent in [p, *p.parents]:\n",
    "        if any((parent / m).exists() for m in markers):\n",
    "            return parent\n",
    "    return p\n",
    "\n",
    "ROOT = find_project_root()"
   ]
  },
  {
   "cell_type": "code",
   "execution_count": 26,
   "id": "544e1032",
   "metadata": {},
   "outputs": [],
   "source": [
    "# --- Configurações ---\n",
    "DATA_DIR = ROOT / \"data\"\n",
    "FONT_PATH = DATA_DIR / \"external\" / \"elis.ttf\"\n",
    "OUTPUT_IMAGE_PATH = DATA_DIR / \"raw\" / \"ocr_test_image.png\"\n",
    "\n",
    "# Palavra \"Rosa\" em ELiS\n",
    "# U+0074, U+0068, U+007A, U+0044, U+00CC, U+00B0 em Unicode\n",
    "# \"thzDÌm\" em ASCII\n",
    "SYMBOLS_SEQUENCE = \"thzDÌm\"\n",
    "FONT_SIZE = 30\n",
    "IMAGE_HEIGHT = 64\n",
    "PADDING = 20 # Espaçamento nas bordas da imagem\n",
    "SPACING = 10 # Espaçamento entre os glifos\n"
   ]
  },
  {
   "cell_type": "code",
   "execution_count": 27,
   "id": "249d828c",
   "metadata": {},
   "outputs": [],
   "source": [
    "def generate_test_image():\n",
    "    \"\"\"Gera uma imagem PNG com uma sequência de glifos\"\"\"\n",
    "    try:\n",
    "        font = ImageFont.truetype(FONT_PATH, FONT_SIZE)\n",
    "    except IOError:\n",
    "        print(f\"ERRO: Arquivo de fonte não encontrado em '{FONT_PATH}'. Por favor, atualize o caminho.\")\n",
    "        return\n",
    "\n",
    "    total_width = PADDING * 2\n",
    "    for i, symbol in enumerate(SYMBOLS_SEQUENCE):\n",
    "        # textbbox retorna (left, top, right, bottom)\n",
    "        bbox = font.getbbox(symbol)\n",
    "        symbol_width = bbox[2] - bbox[0]\n",
    "        total_width += symbol_width\n",
    "        if i < len(SYMBOLS_SEQUENCE) - 1:\n",
    "            total_width += SPACING\n",
    "\n",
    "    # Cria a imagem com fundo branco\n",
    "    image = Image.new('L', (total_width, IMAGE_HEIGHT), 255)\n",
    "    draw = ImageDraw.Draw(image)\n",
    "\n",
    "    # Desenha cada símbolo na imagem\n",
    "    current_x = PADDING\n",
    "    for symbol in SYMBOLS_SEQUENCE:\n",
    "        bbox = font.getbbox(symbol)\n",
    "        symbol_width = bbox[2] - bbox[0]\n",
    "        symbol_height = bbox[3] - bbox[1]\n",
    "\n",
    "        # Centraliza verticalmente\n",
    "        y_position = (IMAGE_HEIGHT - symbol_height) / 2\n",
    "\n",
    "        draw.text((current_x, y_position), symbol, font=font, fill=0)\n",
    "        current_x += symbol_width + SPACING\n",
    "\n",
    "    image.save(OUTPUT_IMAGE_PATH)\n",
    "    print(f\"Imagem de teste salva em '{OUTPUT_IMAGE_PATH}'\")\n",
    "    return image"
   ]
  },
  {
   "cell_type": "code",
   "execution_count": 28,
   "id": "445fbb25",
   "metadata": {},
   "outputs": [
    {
     "name": "stdout",
     "output_type": "stream",
     "text": [
      "Imagem de teste salva em '/mnt/x/01-projetos/11-work/11.32-doutorado/DL/projeto_elis/data/raw/ocr_test_image.png'\n"
     ]
    },
    {
     "data": {
      "image/jpeg": "[encoded data removed]",
      "image/png": "[encoded data removed]",
      "text/plain": [
       "<PIL.Image.Image image mode=L size=203x64>"
      ]
     },
     "execution_count": 28,
     "metadata": {},
     "output_type": "execute_result"
    }
   ],
   "source": [
    "generate_test_image()"
   ]
  }
 ],
 "metadata": {
  "kernelspec": {
   "display_name": "tf-gpu",
   "language": "python",
   "name": "python3"
  },
  "language_info": {
   "codemirror_mode": {
    "name": "ipython",
    "version": 3
   },
   "file_extension": ".py",
   "mimetype": "text/x-python",
   "name": "python",
   "nbconvert_exporter": "python",
   "pygments_lexer": "ipython3",
   "version": "3.11.14"
  }
 },
 "nbformat": 4,
 "nbformat_minor": 5
}
