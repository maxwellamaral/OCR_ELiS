{
 "cells": [
  {
   "cell_type": "markdown",
   "id": "doc-intro",
   "metadata": {},
   "source": [
    "# Geração de Imagem de Teste para OCR\\n\\n",
    "Este notebook tem como objetivo gerar uma imagem de teste contendo uma sequência de caracteres (a palavra \\"Rosa\\" no sistema ELiS) para validar os algoritmos de segmentação e reconhecimento de OCR. O processo envolve:\\n\\n",
    "- **Configuração**: Define a sequência de caracteres, o tamanho da fonte, as dimensões da imagem e os espaçamentos.\\n",
    "- **Cálculo de Dimensões**: Mede a largura total necessária para renderizar a sequência de caracteres com o espaçamento definido.\\n",
    "- **Renderização**: Cria uma imagem em branco e desenha cada caractere da sequência, um após o outro, salvando o resultado em um arquivo PNG."
   ]
  },
  {
   "cell_type": "markdown",
   "id": "doc-imports-generate",
   "metadata": {},
   "source": [
    "## Importação de Bibliotecas\\n\\n",
    "Importa as bibliotecas necessárias para a manipulação de imagens e caminhos de arquivo."
   ]
  },
  {
   "cell_type": "code",
   "execution_count": 15,
   "id": "43f1ec66",
   "metadata": {},
   "outputs": [],
   "source": [
    "from PIL import Image, ImageFont, ImageDraw\\n",
    "from pathlib import Path"
   ]
  },
  {
   "cell_type": "markdown",
   "id": "doc-find-root-generate",
   "metadata": {},
   "source": [
    "## Localização da Raiz do Projeto\\n\\n",
    "A função `find_project_root` localiza o diretório raiz para resolver os caminhos dos arquivos necessários."
   ]
  },
  {
   "cell_type": "code",
   "execution_count": 16,
   "id": "46028835",
   "metadata": {},
   "outputs": [],
   "source": [
    "def find_project_root(markers=(\\"pyproject.toml\\", \\".git\\")) -> Path:\\n",
    "    '''\\n",
    "    Descobre a raiz do projeto subindo diretórios até encontrar um marcador.\\n",
    "\\n",
    "    Parâmetros:\\n",
    "        markers (tuple): Nomes de arquivos/pastas que indicam a raiz.\\n",
    "\\n",
    "    Retorna:\\n",
    "        pathlib.Path: Aponta para a raiz do projeto.\\n",
    "    '''\\n",
    "    p = Path.cwd().resolve()\\n",
    "    for parent in [p, *p.parents]:\\n",
    "        if any((parent / m).exists() for m in markers):\\n",
    "            return parent\\n",
    "    return p\\n",
    "\\n",
    "ROOT = find_project_root()"
   ]
  },
  {
   "cell_type": "markdown",
   "id": "doc-config-generate",
   "metadata": {},
   "source": [
    "## Configurações da Imagem de Teste\\n\\n",
    "Define os parâmetros para a geração da imagem, incluindo os caminhos, a sequência de caracteres que forma a palavra \\"Rosa\\", o tamanho da fonte e os espaçamentos."
   ]
  },
  {
   "cell_type": "code",
   "execution_count": 26,
   "id": "544e1032",
   "metadata": {},
   "outputs": [],
   "source": [
    "# --- Configurações ---\\n",
    "DATA_DIR = ROOT / \\"data\\"\\n",
    "FONT_PATH = DATA_DIR / \\"external\\" / \\"elis.ttf\\"\\n",
    "OUTPUT_IMAGE_PATH = DATA_DIR / \\"raw\\" / \\"ocr_test_image.png\\"\\n",
    "\\n",
    "# Palavra \\"Rosa\\" em ELiS\\n",
    "# U+0074, U+0068, U+007A, U+0044, U+00CC, U+00B0 em Unicode\\n",
    "# \\"thzDÌm\\" em ASCII\\n",
    "SYMBOLS_SEQUENCE = \\"thzDÌm\\"\\n",
    "FONT_SIZE = 30\\n",
    "IMAGE_HEIGHT = 64\\n",
    "PADDING = 20 # Espaçamento nas bordas da imagem\\n",
    "SPACING = 10 # Espaçamento entre os glifos\\n"
   ]
  },
  {
   "cell_type": "markdown",
   "id": "doc-generate-function",
   "metadata": {},
   "source": [
    "## Função para Geração da Imagem\\n\\n",
    "A função `generate_test_image` automatiza o processo de criação da imagem. Ela primeiro calcula a largura total necessária e, em seguida, desenha cada caractere da sequência na posição correta, salvando o resultado final."
   ]
  },
  {
   "cell_type": "code",
   "execution_count": 27,
   "id": "249d828c",
   "metadata": {},
   "outputs": [],
   "source": [
    "def generate_test_image():\\n",
    "    '''Gera uma imagem de teste contendo uma sequência de glifos.\\n",
    "\\n",
    "    A função carrega a fonte ELiS, calcula as dimensões necessárias para renderizar\\n",
    "    a `SYMBOLS_SEQUENCE` com espaçamento e padding, e cria uma imagem em escala de cinza.\\n",
    "    Cada caractere é desenhado sequencialmente na imagem, que é então salva no caminho\\n",
    "    especificado por `OUTPUT_IMAGE_PATH`.\\n",
    "\\n",
    "    Returns:\\n",
    "        PIL.Image.Image: O objeto de imagem gerado.\\n",
    "    '''\\n",
    "    try:\\n",
    "        font = ImageFont.truetype(FONT_PATH, FONT_SIZE)\\n",
    "    except IOError:\\n",
    "        print(f\\"ERRO: Arquivo de fonte não encontrado em '{FONT_PATH}'. Por favor, atualize o caminho.\\")\\n",
    "        return\\n",
    "\\n",
    "    total_width = PADDING * 2\\n",
    "    for i, symbol in enumerate(SYMBOLS_SEQUENCE):\\n",
    "        # textbbox retorna (left, top, right, bottom)\\n",
    "        bbox = font.getbbox(symbol)\\n",
    "        symbol_width = bbox[2] - bbox[0]\\n",
    "        total_width += symbol_width\\n",
    "        if i < len(SYMBOLS_SEQUENCE) - 1:\\n",
    "            total_width += SPACING\\n",
    "\\n",
    "    # Cria a imagem com fundo branco\\n",
    "    image = Image.new('L', (total_width, IMAGE_HEIGHT), 255)\\n",
    "    draw = ImageDraw.Draw(image)\\n",
    "\\n",
    "    # Desenha cada símbolo na imagem\\n",
    "    current_x = PADDING\\n",
    "    for symbol in SYMBOLS_SEQUENCE:\\n",
    "        bbox = font.getbbox(symbol)\\n",
    "        symbol_width = bbox[2] - bbox[0]\\n",
    "        symbol_height = bbox[3] - bbox[1]\\n",
    "\\n",
    "        # Centraliza verticalmente\\n",
    "        y_position = (IMAGE_HEIGHT - symbol_height) / 2\\n",
    "\\n",
    "        draw.text((current_x, y_position), symbol, font=font, fill=0)\\n",
    "        current_x += symbol_width + SPACING\\n",
    "\\n",
    "    image.save(OUTPUT_IMAGE_PATH)\\n",
    "    print(f\\"Imagem de teste salva em '{OUTPUT_IMAGE_PATH}'\\")\\n",
    "    return image"
   ]
  },
  {
   "cell_type": "markdown",
   "id": "doc-execution-generate",
   "metadata": {},
   "source": [
    "## Execução\\n\\n",
    "Chama a função `generate_test_image` para criar e salvar a imagem de teste."
   ]
  },
  {
   "cell_type": "code",
   "execution_count": 28,
   "id": "445fbb25",
   "metadata": {},
   "outputs": [],
   "source": [
    "generate_test_image()"
   ]
  }
 ],
 "metadata": {
  "kernelspec": {
   "display_name": "tf-gpu",
   "language": "python",
   "name": "python3"
  },
  "language_info": {
   "codemirror_mode": {
    "name": "ipython",
    "version": 3
   },
   "file_extension": ".py",
   "mimetype": "text/x-python",
   "name": "python",
   "nbconvert_exporter": "python",
   "pygments_lexer": "ipython3",
   "version": "3.11.14"
  }
 },
 "nbformat": 4,
 "nbformat_minor": 5
}